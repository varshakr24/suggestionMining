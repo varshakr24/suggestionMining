{
 "cells": [
  {
   "cell_type": "code",
   "execution_count": 1,
   "metadata": {},
   "outputs": [],
   "source": [
    "import os\n",
    "from collections import defaultdict\n",
    "import numpy as np\n",
    "import torch.nn as nn\n",
    "import torch.nn.functional as F\n",
    "import torch.optim as optim\n",
    "from torch.utils import data"
   ]
  },
  {
   "cell_type": "code",
   "execution_count": null,
   "metadata": {},
   "outputs": [],
   "source": [
    "class CNN_BERT(nn.Module):\n",
    "\n",
    "    def __init__(self):\n",
    "        super(CNN_BERT, self).__init__()\n",
    "\n",
    "\n",
    "    def forward(self,x):\n",
    "        return x\n"
   ]
  },
  {
   "cell_type": "code",
   "execution_count": null,
   "metadata": {},
   "outputs": [],
   "source": [
    "# class CNN_GC(nn.Module):\n",
    "\n",
    "#     def __init__(self):\n",
    "#         super(CNN_GC, self).__init__()\n",
    "        \n",
    "\n",
    "#     def forward(self,x):\n",
    "#         return x\n"
   ]
  },
  {
   "cell_type": "code",
   "execution_count": 2,
   "metadata": {},
   "outputs": [],
   "source": [
    "class MLP(nn.Module):\n",
    "    def __init__(self):\n",
    "        super(MLP,self).__init__()\n",
    "        self.l0 = nn.Linear(300,300)\n",
    "        self.dp0 = nn.Dropout(p=0.5)\n",
    "        self.l1 = nn.Linear(300,300)\n",
    "        self.dp1 = nn.Dropout(p=0.5)\n",
    "        self.l3 = nn.Linear(300,2)\n",
    "\n",
    "    def forward(self,x):\n",
    "        x = self.dp0(F.sigmoid(self.l0(x)))\n",
    "        x = self.dp1(F.sigmoid(self.l1(x)))\n",
    "        x = F.sigmoid(self.l3(x))\n",
    "        return x"
   ]
  },
  {
   "cell_type": "code",
   "execution_count": 3,
   "metadata": {},
   "outputs": [],
   "source": [
    "class SuggestionClassifier(nn.Module):\n",
    "    def __init_(self):\n",
    "        # path all the models together\n",
    "        # BERT->CNN + CNN->ATT\n",
    "        super(SuggestionClassifier,self).__init__()\n",
    "        self.CNN_b = CNN_BERT()\n",
    "        self.CNN_gc = CNN_GC()\n",
    "        self.MLP = MLP()\n",
    "\n",
    "\n",
    "    def forward(self,x):\n",
    "        bert_x = self.CNN_b(x)\n",
    "        gc_x = self.CNN_gc(x)\n",
    "        torch.cat(bert_x,gc_x) # TODO : ensure dimensions align\n",
    "        x = self.MLP(x)\n",
    "        return x"
   ]
  }
 ],
 "metadata": {
  "kernelspec": {
   "display_name": "Python 3.7.4 64-bit ('base': conda)",
   "language": "python",
   "name": "python37464bitbaseconda65d29b067ab74d8c9fcb587724eb27cf"
  },
  "language_info": {
   "codemirror_mode": {
    "name": "ipython",
    "version": 3
   },
   "file_extension": ".py",
   "mimetype": "text/x-python",
   "name": "python",
   "nbconvert_exporter": "python",
   "pygments_lexer": "ipython3",
   "version": "3.7.4"
  }
 },
 "nbformat": 4,
 "nbformat_minor": 2
}
