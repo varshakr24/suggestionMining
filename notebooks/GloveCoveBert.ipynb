{
 "cells": [
  {
   "cell_type": "code",
   "execution_count": 1,
   "metadata": {},
   "outputs": [],
   "source": [
    "from torchtext import data\n",
    "from torchtext import datasets\n",
    "from torchtext.vocab import GloVe\n",
    "from cove import MTLSTM\n",
    "from transformers import AutoTokenizer\n",
    "import numpy as np\n",
    "import torch\n",
    "import torch.nn as nn\n",
    "import torch.nn.functional as F\n",
    "import torch.optim as optim\n",
    "from transformers import BertModel\n",
    "# Bert-large uncased (IN_CHANNELS : 300)\n",
    "# hiddenlayers = 1024 (OUT_CHANNELS : 1024)"
   ]
  },
  {
   "cell_type": "code",
   "execution_count": 2,
   "metadata": {},
   "outputs": [],
   "source": [
    "# Bert Tokenizer\n",
    "tokenizer = AutoTokenizer.from_pretrained('bert-large-uncased', do_lower_case=True)\n",
    "\n",
    "def tokenizerfnc(str):\n",
    "    return tokenizer.encode(str,max_length=512, pad_to_max_length=True)"
   ]
  },
  {
   "cell_type": "code",
   "execution_count": 3,
   "metadata": {},
   "outputs": [],
   "source": [
    "TEXT = data.Field(lower=True, include_lengths=True, batch_first=True)\n",
    "LABEL = data.Field(sequential=False, use_vocab=False)\n",
    "TEXT_BERT = data.Field(\n",
    "    use_vocab=False,\n",
    "    batch_first=True,\n",
    "    pad_token=tokenizer.pad_token_id,\n",
    "    tokenize=tokenizerfnc\n",
    ")"
   ]
  },
  {
   "cell_type": "code",
   "execution_count": 8,
   "metadata": {},
   "outputs": [],
   "source": [
    "class CNN_GC(nn.Module):\n",
    "\n",
    "    def __init__(self,out_dim=200,gc_dim=900,max_len=512, dropout=0.5):\n",
    "        super(CNN_GC, self).__init__()\n",
    "        \n",
    "        \"\"\"cove_model = CoVeEmbeddings(\n",
    "            word_embeddings_dir='../model/text/stanford/glove/', \n",
    "            tokenizer=tokenizer,\n",
    "            max_sequence_length=max_len, verbose=20)\n",
    "        glove_model = GloVeEmbeddings()\n",
    "        glove_model.load_model(dest_dir='../model/text/stanford/glove/', process=False)\"\"\"\n",
    "        \n",
    "        self.gc_dim = gc_dim\n",
    "        self.out_dim = out_dim\n",
    "        self.max_len = max_len\n",
    "        self.dropout = dropout\n",
    "\n",
    "        self.conv_3 = nn.Conv1d(gc_dim, out_dim, 3, stride=1, padding=1)\n",
    "        self.conv_5 = nn.Conv1d(gc_dim, out_dim, 5, stride=1, padding=2)\n",
    "        self.conv_7 = nn.Conv1d(gc_dim, out_dim, 7, stride=1, padding=3)\n",
    "        self.attn = nn.Linear(3*out_dim*max_len, max_len)\n",
    "\n",
    "    def forward(self,x):\n",
    "        #cove_embed = cove_model.encode(x)\n",
    "        #tokens = [sentence.split(\" \") for sentence in x]\n",
    "        #glove_embed = glove_model.encode(tokens)\n",
    "        #x = torch.cat([cove_embed,glove_embed], 2)\n",
    "        \n",
    "        conv_3 = F.relu(self.conv_3(x))\n",
    "        conv_5 = F.relu(self.conv_5(x))\n",
    "        conv_7 = F.relu(self.conv_7(x))\n",
    "        x = torch.cat([conv_3,conv_5,conv_7], 1)\n",
    "        print(x.shape)\n",
    "        \n",
    "        non_linear_x = F.relu(x.view(-1, 600*self.max_len))\n",
    "        print(non_linear_x.shape)\n",
    "        attn_weights = F.softmax(self.attn(non_linear_x), dim=1)\n",
    "        print(attn_weights.shape)\n",
    "        #attn_applied = torch.bmm(attn_weights.unsqueeze(1), x)\n",
    "        #attn_applied = attn_weights*x\n",
    "        attn_applied = torch.zeros(x.shape[0], x.shape[1], x.shape[2])\n",
    "        for i in range(x.shape[0]):\n",
    "            attn_applied[i,:,:] = x[i,:,:]*attn_weights[i]\n",
    "        print(\"hello\")\n",
    "        print(attn_applied.shape)\n",
    "        \n",
    "        x = attn_applied.sum(dim=2)\n",
    "        return x"
   ]
  },
  {
   "cell_type": "code",
   "execution_count": 9,
   "metadata": {},
   "outputs": [],
   "source": [
    "class CNN_BERT(nn.Module):\n",
    "\n",
    "    def __init__(self, out_dim=100, embed_dim=1024, max_len=512, dropout=0.5):\n",
    "        super(CNN_BERT, self).__init__()\n",
    "        \n",
    "        self.embed_dim = embed_dim\n",
    "        self.out_dim = out_dim # not 100?\n",
    "        self.max_len = max_len # ?\n",
    "        self.dropout = dropout\n",
    "\n",
    "        self.bert_layer = BertModel.from_pretrained('bert-large-uncased')\n",
    "        self.conv_3 = nn.Conv1d(1, out_dim, embed_dim * 3, stride=embed_dim)\n",
    "        self.conv_4 = nn.Conv1d(1, out_dim, embed_dim * 4, stride=embed_dim)\n",
    "        self.conv_5 = nn.Conv1d(1, out_dim, embed_dim * 5, stride=embed_dim)\n",
    "\n",
    "    def get_conv_out(self,conv,x, num):\n",
    "        return F.max_pool1d(F.relu(conv(x)), \n",
    "                            self.max_len - num + 1).view(-1, self.out_dim)\n",
    "\n",
    "    def forward(self,x):\n",
    "        x = self.bert_layer(x)[0].view(-1, 1, self.embed_dim * self.max_len)\n",
    "        conv_3 = self.get_conv_out(self.conv_3, x, 3)\n",
    "        conv_4 = self.get_conv_out(self.conv_4, x, 4)\n",
    "        conv_5 = self.get_conv_out(self.conv_5, x, 5)\n",
    "        x = torch.cat([conv_3, conv_4, conv_5], 1)\n",
    "        x = F.dropout(x, p=self.dropout)\n",
    "        return x"
   ]
  },
  {
   "cell_type": "code",
   "execution_count": 10,
   "metadata": {},
   "outputs": [],
   "source": [
    "# model_cnn_gc = CNN_GC()\n",
    "# model_bert = CNN_BERT()"
   ]
  },
  {
   "cell_type": "code",
   "execution_count": 11,
   "metadata": {},
   "outputs": [],
   "source": [
    "class MLP(nn.Module):\n",
    "    def __init__(self):\n",
    "        super(MLP,self).__init__()\n",
    "        self.l0 = nn.Linear(900,300) # BERT-> CNN (300), G,C->CNN (600)\n",
    "        self.l1 = nn.Linear(300,300)\n",
    "        self.l3 = nn.Linear(300,1)\n",
    "\n",
    "    def forward(self,x):\n",
    "        x = torch.sigmoid(self.l0(x))\n",
    "        x = torch.sigmoid(self.l1(x))\n",
    "        x = torch.sigmoid(self.l3(x))\n",
    "        return x\n",
    "\n",
    "\n",
    "class SuggestionClassifier(nn.Module):\n",
    "    def __init__(self):\n",
    "        # path all the models together\n",
    "        # BERT->CNN + CNN->ATT\n",
    "        super(SuggestionClassifier,self).__init__()\n",
    "        self.CNN_b = CNN_BERT()\n",
    "        self.CNN_gc = CNN_GC()\n",
    "        self.MLP = MLP()\n",
    "\n",
    "\n",
    "    def forward(self,x, y):\n",
    "        print(\"=========================\")\n",
    "        bert_x = self.CNN_b(x)\n",
    "        print(\"Total Model\", bert_x.shape)\n",
    "        gc_x = self.CNN_gc(y)\n",
    "        print(\"Total Model\", gc_x.shape)\n",
    "        out = torch.cat((bert_x,gc_x), 1) # TODO : ensure dimensions align (1x300, 1x600)\n",
    "        print(\"Total\", out.shape)\n",
    "        out = self.MLP(out) # Dim : 1x900\n",
    "        print(\"Total\", out.shape)\n",
    "        return out"
   ]
  },
  {
   "cell_type": "code",
   "execution_count": 12,
   "metadata": {},
   "outputs": [],
   "source": [
    "model_overall = SuggestionClassifier()"
   ]
  },
  {
   "cell_type": "code",
   "execution_count": null,
   "metadata": {},
   "outputs": [
    {
     "name": "stdout",
     "output_type": "stream",
     "text": [
      "C:\\Users\\thank\\Downloads\\CMU MCDS\\11747\\project\\suggestionMining\\data\\Subtask-A\\train_0.csv\n",
      "=========================\n",
      "Total Model torch.Size([5, 300])\n",
      "torch.Size([5, 600, 512])\n",
      "torch.Size([5, 307200])\n"
     ]
    }
   ],
   "source": [
    "train_path = \"C:\\\\Users\\\\thank\\\\Downloads\\\\CMU MCDS\\\\11747\\\\project\\suggestionMining\\\\data\\\\Subtask-A\\\\train_{}.csv\"\n",
    "\n",
    "for i in range(10):\n",
    "    print(train_path.format(i))\n",
    "    train = data.TabularDataset(\n",
    "            path=train_path.format(i), format='csv',\n",
    "            skip_header = False,\n",
    "            fields={'sentence':[('sentence',TEXT),('bert_enc',TEXT_BERT)],\n",
    "                    'label':('label',LABEL)\n",
    "                    })\n",
    "\n",
    "    TEXT.build_vocab(train, vectors=GloVe(name='840B', dim=300, cache='.embeddings'))\n",
    "    outputs_cove_with_glove = MTLSTM(n_vocab=len(TEXT.vocab), vectors=TEXT.vocab.vectors, residual_embeddings=True, model_cache='.embeddings')\n",
    "\n",
    "    train_iter = data.Iterator(\n",
    "        (train),\n",
    "        batch_size=5)\n",
    "    \n",
    "    for batch_idx, batch in enumerate(train_iter):\n",
    "        glove_then_last_layer_cove = outputs_cove_with_glove(*batch.sentence)\n",
    "        target = torch.zeros(5, 512, 900)\n",
    "        max_sentence_len_in_batch = max(batch.sentence[1].tolist())\n",
    "        target[:, :max_sentence_len_in_batch, :] = glove_then_last_layer_cove\n",
    "        glove_then_last_layer_cove = target.permute(0,2,1)\n",
    "\n",
    "        #output = model_cnn_gc(glove_then_last_layer_cove)\n",
    "        # bert_output = model_bert(batch.bert_enc)\n",
    "        out = model_overall(batch.bert_enc, glove_then_last_layer_cove)\n",
    "\n",
    "        break"
   ]
  }
 ],
 "metadata": {
  "kernelspec": {
   "display_name": "Python 3",
   "language": "python",
   "name": "python3"
  },
  "language_info": {
   "codemirror_mode": {
    "name": "ipython",
    "version": 3
   },
   "file_extension": ".py",
   "mimetype": "text/x-python",
   "name": "python",
   "nbconvert_exporter": "python",
   "pygments_lexer": "ipython3",
   "version": "3.7.4"
  }
 },
 "nbformat": 4,
 "nbformat_minor": 2
}
