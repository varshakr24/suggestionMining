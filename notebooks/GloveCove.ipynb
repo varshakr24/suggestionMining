{
 "cells": [
  {
   "cell_type": "code",
   "execution_count": 1,
   "metadata": {},
   "outputs": [],
   "source": [
    "import os\n",
    "import re\n",
    "import sys\n",
    "import pathlib\n",
    "import numpy as np\n",
    "from csv import reader\n",
    "from stanfordcorenlp import StanfordCoreNLP\n",
    "#from pytorch_pretrained_bert.tokenization import BertTokenizer"
   ]
  },
  {
   "cell_type": "code",
   "execution_count": 18,
   "metadata": {},
   "outputs": [],
   "source": [
    "def pre_process_text(text):\n",
    "    '''\n",
    "    Lowercase, TOkenize (Stanford CoreNLP)\n",
    "    '''\n",
    "    text = text.lower()\n",
    "    #result = nlp.word_tokenize(text)\n",
    "    result = text.split(\" \")\n",
    "    return result\n",
    "\n",
    "\n",
    "def bert_embedding(text):\n",
    "    '''\n",
    "    Get bert tokenized sentences\n",
    "    '''\n",
    "    return tokenizer.encode(tokenizer.tokenize(text))\n",
    "\n",
    "\n",
    "def glove_cove_embedding(text):\n",
    "    '''\n",
    "    Get Glove_Cove Embedding\n",
    "    '''\n",
    "    #tokens = [nlp.word_tokenize(sentence) for sentence in text]\n",
    "    tokens = [sentence.split(\" \") for sentence in text]\n",
    "    glove_embed = glove_model.encode(tokens)\n",
    "    cove_embed = cove_model.encode(tokens)\n",
    "    result = np.concatenate(glove_embed,cove_embed, axis=2)\n",
    "    return result\n",
    "\n",
    "\n",
    "\n",
    "\n",
    "def load_data(folder= \"Subtask-A\", filename=\"SubtaskA_EvaluationData_labeled.csv\"):\n",
    "    '''\n",
    "    Args : folder name, file name\n",
    "    Ret : return data loaded into list of lists [id, string, labels] \n",
    "    '''\n",
    "    #prefix = str(pathlib.Path(__file__).parent.parent)\n",
    "    #path = os.path.join(prefix,\"data\", folder, filename)\n",
    "    path = \"C:\\\\Users\\\\bhara\\\\Downloads\\\\NNNlpHW3\\\\suggestionMining\\\\data\\\\Subtask-A\\\\SubtaskA_EvaluationData.csv\"\n",
    "    f = open(path,'r', encoding=\"utf-8\")\n",
    "    data_reader = reader(f, delimiter=\",\")\n",
    "    data = [row for row in data_reader]\n",
    "    f.close()\n",
    "    return data\n",
    "\n",
    "\n",
    "def pre_process_data_from_dataset(data):\n",
    "    '''\n",
    "    Args : data is list of lists [id, string, label]\n",
    "    Ret: list of features, labels, id_map (i.e index to id mapping)\n",
    "    '''\n",
    "    ids = [ datum[0]+\",\\\"\"+datum[1]+\"\\\"\" for datum in data]\n",
    "    id_map = {k:v for k,v in enumerate(ids)}\n",
    "\n",
    "    labels = [datum[2] for datum in data]\n",
    "\n",
    "    bert_feats = [bert_embedding(datum[1]) for datum in data]\n",
    "    glove_cove_feats = glove_cove_embedding([datum[1] for datum in data])\n",
    "    return glove_cove_feats, bert_feats, labels, id_map\n",
    "\n",
    "\n",
    "def create_folds(data, folds=10):\n",
    "    '''\n",
    "    Split data into 'folds' number of batches\n",
    "\n",
    "    Args : data, list of lists of form [id, string, label]\n",
    "            folds, number of batches of data to be created\n",
    "    Rets : data batched into 'fold' lists, each wich is in turn list of lists [id, string, label]\n",
    "    '''\n",
    "    data_size = len(data)\n",
    "    batch_size = int(data_size/folds)\n",
    "    data_batch = []\n",
    "    last_index = 0\n",
    "    for i in range(folds-1):\n",
    "        batch = data[i * batch_size: (i+1)*batch_size]\n",
    "        data_batch.append(batch)\n",
    "    data_batch.append(data[(folds-1) * batch_size:])\n",
    "    return data_batch\n",
    "\n",
    "\n",
    "def create_cross_val_train_test(data_batches,id, folds=10):\n",
    "    '''\n",
    "    Create test set from batched data, where test set while batch[id]\n",
    "    and train set will everything else\n",
    "\n",
    "    Args : data_batches, data that is split into 'fold' number of groups\n",
    "            id, index of batch to be made as test_set\n",
    "            folds, number of batches the data is split into\n",
    "    Rets :\n",
    "    '''\n",
    "    train = []\n",
    "    test = data_batches[id]\n",
    "    for i in range(folds):\n",
    "        if i != id:\n",
    "            train += data_batches[i]\n",
    "    return train, test"
   ]
  },
  {
   "cell_type": "code",
   "execution_count": 20,
   "metadata": {},
   "outputs": [
    {
     "name": "stdout",
     "output_type": "stream",
     "text": [
      "83\n",
      "83\n",
      "83\n",
      "83\n",
      "83\n",
      "83\n",
      "83\n",
      "83\n",
      "83\n",
      "86\n",
      "['9566', 'This would enable live traffic aware apps.', 'X']\n",
      "Length of train and test:  750 83\n"
     ]
    }
   ],
   "source": [
    "data = load_data()\n",
    "data_folds = create_folds(data)\n",
    "for datum in data_folds:\n",
    "    print(len(datum))\n",
    "print(data_folds[0][0])\n",
    "train, test = create_cross_val_train_test(data_folds,0)\n",
    "print(\"Length of train and test: \", len(train),len(test))\n",
    "\n",
    "#feats, bert, labels, id_map = pre_process_data_from_dataset(train)\n",
    "#print(feats[0])\n",
    "#print(bert[0])"
   ]
  },
  {
   "cell_type": "code",
   "execution_count": 1,
   "metadata": {},
   "outputs": [],
   "source": [
    "from torchtext import data\n",
    "from torchtext import datasets\n",
    "from torchtext.vocab import GloVe\n",
    "\n",
    "from cove import MTLSTM\n"
   ]
  },
  {
   "cell_type": "code",
   "execution_count": 2,
   "metadata": {},
   "outputs": [],
   "source": [
    "from transformers import AutoTokenizer\n",
    "tokenizer = AutoTokenizer.from_pretrained('bert-large-uncased', do_lower_case=True)\n",
    "\n",
    "def tokenizerfnc(str):\n",
    "    return tokenizer.encode(str,max_length=512, pad_to_max_length=True)"
   ]
  },
  {
   "cell_type": "code",
   "execution_count": 4,
   "metadata": {},
   "outputs": [],
   "source": [
    "TEXT = data.Field(lower=True, include_lengths=True, batch_first=True)\n",
    "#LABEL = data.Field(lower=True, include_lengths=True, batch_first=True)"
   ]
  },
  {
   "cell_type": "code",
   "execution_count": 5,
   "metadata": {},
   "outputs": [],
   "source": [
    "LABEL = data.Field(sequential=False, use_vocab=False)\n",
    "\n",
    "TEXT_BERT = data.Field(\n",
    "    use_vocab=False,\n",
    "    batch_first=True,\n",
    "    pad_token=tokenizer.pad_token_id,\n",
    "    tokenize=tokenizerfnc\n",
    ")"
   ]
  },
  {
   "cell_type": "code",
   "execution_count": 6,
   "metadata": {},
   "outputs": [
    {
     "data": {
      "text/plain": [
       "\"\\ntrain = data.TabularDataset(\\n        path=train_path, format='csv',\\n        fields=[('id', None),\\n                ('sentence', TEXT),\\n                 ('label', LABEL)])\\n\""
      ]
     },
     "execution_count": 6,
     "metadata": {},
     "output_type": "execute_result"
    }
   ],
   "source": [
    "train_path = \"C:\\\\Users\\\\bhara\\\\Downloads\\\\NNNlpHW3\\\\suggestionMining\\\\data\\\\Subtask-A\\\\V1.4_Training.csv\"\n",
    "\"\"\"\n",
    "train = data.TabularDataset(\n",
    "        path=train_path, format='csv',\n",
    "        fields=[('id', None),\n",
    "                ('sentence', TEXT),\n",
    "                 ('label', LABEL)])\n",
    "\"\"\""
   ]
  },
  {
   "cell_type": "code",
   "execution_count": 8,
   "metadata": {},
   "outputs": [],
   "source": [
    "train = data.TabularDataset(\n",
    "        path=train_path, format='csv',\n",
    "        skip_header = False,\n",
    "        fields={'sentence':[('sentence',TEXT),('bert_enc',TEXT_BERT)],\n",
    "                'label':('label',LABEL)\n",
    "                })"
   ]
  },
  {
   "cell_type": "code",
   "execution_count": 34,
   "metadata": {},
   "outputs": [
    {
     "data": {
      "text/plain": [
       "Counter({'\"please': 226,\n",
       "         'enable': 47,\n",
       "         'removing': 14,\n",
       "         'language': 61,\n",
       "         'code': 156,\n",
       "         'from': 628,\n",
       "         'the': 7249,\n",
       "         'dev': 97,\n",
       "         'center': 63,\n",
       "         '\"language': 3,\n",
       "         'history\"': 2,\n",
       "         'for': 1875,\n",
       "         'example': 119,\n",
       "         'if': 673,\n",
       "         'you': 845,\n",
       "         'ever': 20,\n",
       "         'selected': 41,\n",
       "         '\"ru\"': 18,\n",
       "         'and': 2981,\n",
       "         '\"ru-ru\"': 6,\n",
       "         'laguages': 4,\n",
       "         'published': 31,\n",
       "         'this': 1033,\n",
       "         'xap': 18,\n",
       "         'to': 5973,\n",
       "         'store': 255,\n",
       "         'then': 247,\n",
       "         'it': 1625,\n",
       "         'causes': 27,\n",
       "         'tile': 61,\n",
       "         'localization': 14,\n",
       "         'show': 118,\n",
       "         'en-us(default)': 4,\n",
       "         'which': 383,\n",
       "         'is': 2309,\n",
       "         'bad.\"': 4,\n",
       "         '\"note:': 4,\n",
       "         'in': 2239,\n",
       "         'your': 219,\n",
       "         '.csproj': 1,\n",
       "         'file,': 11,\n",
       "         'there': 314,\n",
       "         'a': 3296,\n",
       "         'supportedcultures': 1,\n",
       "         'entry': 13,\n",
       "         'like': 619,\n",
       "         'this:': 11,\n",
       "         '<supportedcultures>de-de;ru;ru-ru': 1,\n",
       "         '</supportedcultures>': 1,\n",
       "         'when': 572,\n",
       "         'i': 1524,\n",
       "         'removed': 21,\n",
       "         'my': 646,\n",
       "         'new': 309,\n",
       "         'version,': 5,\n",
       "         'old': 45,\n",
       "         'version': 125,\n",
       "         'still': 127,\n",
       "         'remains': 10,\n",
       "         'with': 1112,\n",
       "         '\"replaced': 2,\n",
       "         'unpublished\".\"': 2,\n",
       "         '\"wich': 3,\n",
       "         'means': 52,\n",
       "         'not': 1006,\n",
       "         'fully': 24,\n",
       "         'replaced': 5,\n",
       "         'me': 157,\n",
       "         'very': 198,\n",
       "         'serious': 14,\n",
       "         'problems:': 5,\n",
       "         '1.\"': 16,\n",
       "         '\"some': 39,\n",
       "         'of': 2026,\n",
       "         'users': 177,\n",
       "         'will': 421,\n",
       "         'receive': 36,\n",
       "         'app.\"': 92,\n",
       "         '\"the': 397,\n",
       "         'randomly': 6,\n",
       "         'gives': 24,\n",
       "         'or': 750,\n",
       "         '\"my': 54,\n",
       "         'app': 1061,\n",
       "         'has': 305,\n",
       "         'wp7': 45,\n",
       "         'wp8': 43,\n",
       "         'same': 206,\n",
       "         'submission.\"': 4,\n",
       "         'works': 86,\n",
       "         'only': 359,\n",
       "         'on': 1223,\n",
       "         'wp8.\"': 10,\n",
       "         '\"sometimes': 10,\n",
       "         'wrong': 29,\n",
       "         'windows': 835,\n",
       "         'phone': 502,\n",
       "         '8': 54,\n",
       "         'users.\"': 19,\n",
       "         '\"it': 342,\n",
       "         'should': 434,\n",
       "         'be': 1639,\n",
       "         'an': 844,\n",
       "         'option': 166,\n",
       "         'remove': 55,\n",
       "         \"'language\": 4,\n",
       "         \"history'\": 2,\n",
       "         'completly': 3,\n",
       "         'replace:': 2,\n",
       "         'replace': 9,\n",
       "         'prevoius(es)': 2,\n",
       "         'xap(s).\"': 1,\n",
       "         '\"currently': 104,\n",
       "         'mistakenly': 1,\n",
       "         'than': 147,\n",
       "         'bad': 36,\n",
       "         'situation': 12,\n",
       "         'forever:': 1,\n",
       "         '-': 268,\n",
       "         'can': 783,\n",
       "         'live': 57,\n",
       "         'displayed': 38,\n",
       "         'russian': 2,\n",
       "         '(the': 15,\n",
       "         'english': 10,\n",
       "         'one)': 3,\n",
       "         'publish': 21,\n",
       "         'update': 111,\n",
       "         'language,': 3,\n",
       "         'but': 710,\n",
       "         '\"fully': 1,\n",
       "         'replace\"': 1,\n",
       "         'truble:': 1,\n",
       "         '1.)\"': 2,\n",
       "         '\"):': 1,\n",
       "         'deliver': 4,\n",
       "         'old/wrong': 1,\n",
       "         'xap.\"': 1,\n",
       "         '\"i': 712,\n",
       "         'write': 43,\n",
       "         'lot': 115,\n",
       "         'support': 284,\n",
       "         'ticket': 3,\n",
       "         'this,': 15,\n",
       "         'no': 312,\n",
       "         'one': 294,\n",
       "         'really': 142,\n",
       "         'cares': 3,\n",
       "         'issue.\"': 20,\n",
       "         'engineering': 3,\n",
       "         'team': 23,\n",
       "         'solve': 12,\n",
       "         'issue': 95,\n",
       "         'they': 231,\n",
       "         'do': 331,\n",
       "         'following:': 4,\n",
       "         '\"provide': 21,\n",
       "         'workaround': 13,\n",
       "         'history': 12,\n",
       "         '(i': 12,\n",
       "         'have': 1049,\n",
       "         'need': 249,\n",
       "         'culture': 3,\n",
       "         'just': 257,\n",
       "         '\"ru-ru\",': 1,\n",
       "         'way': 293,\n",
       "         'posted': 12,\n",
       "         'support)': 2,\n",
       "         '2.\"': 6,\n",
       "         '\"or': 16,\n",
       "         'add': 315,\n",
       "         'implement': 55,\n",
       "         'appreslib.dll.xxxx.mui': 4,\n",
       "         'documentation': 27,\n",
       "         'exist': 16,\n",
       "         'culture:': 2,\n",
       "         'http://msdn.microsoft.com/en-us/library/windowsphone/develop/ff967550(v=vs.105).aspx': 2,\n",
       "         'thanks,': 1,\n",
       "         'tom': 2,\n",
       "         'please': 164,\n",
       "         'serious___': 1,\n",
       "         'more\"': 172,\n",
       "         '\"when': 157,\n",
       "         'driving': 2,\n",
       "         'car': 4,\n",
       "         'make': 292,\n",
       "         'call': 91,\n",
       "         'at': 319,\n",
       "         '99%': 4,\n",
       "         'times': 41,\n",
       "         'use': 452,\n",
       "         'vocal': 4,\n",
       "         'commands': 12,\n",
       "         'starting': 17,\n",
       "         'bing': 30,\n",
       "         'search': 146,\n",
       "         'instead': 98,\n",
       "         'contact.\"': 3,\n",
       "         '\"but': 101,\n",
       "         'press': 36,\n",
       "         'power': 23,\n",
       "         'button': 142,\n",
       "         'unlock': 20,\n",
       "         'device': 119,\n",
       "         'open': 146,\n",
       "         'say': 40,\n",
       "         '\"call': 4,\n",
       "         '<person': 1,\n",
       "         'name,': 17,\n",
       "         'start': 71,\n",
       "         'calling': 21,\n",
       "         'correctly!\"': 1,\n",
       "         '\"this': 332,\n",
       "         'mode': 50,\n",
       "         'activated.\"': 2,\n",
       "         '\"also': 36,\n",
       "         'italian': 3,\n",
       "         'translation,': 1,\n",
       "         'after': 135,\n",
       "         'reading': 38,\n",
       "         'sms,': 1,\n",
       "         '\"fatto\"': 2,\n",
       "         'ending': 2,\n",
       "         'operation': 10,\n",
       "         'work': 180,\n",
       "         '\"ho': 1,\n",
       "         'finito\".\"': 1,\n",
       "         '\"if': 162,\n",
       "         'command': 29,\n",
       "         'unrecognized!\"': 1,\n",
       "         '\"other': 15,\n",
       "         'little': 14,\n",
       "         'bugs:': 2,\n",
       "         'lumia': 45,\n",
       "         '820': 5,\n",
       "         'before': 66,\n",
       "         'first': 86,\n",
       "         'upgrade': 10,\n",
       "         'fine': 32,\n",
       "         'now': 163,\n",
       "         '\"don\\'t': 6,\n",
       "         'recognize': 6,\n",
       "         'commands.\"': 3,\n",
       "         'using': 329,\n",
       "         'bt': 2,\n",
       "         'sony': 1,\n",
       "         'stereo!\"': 1,\n",
       "         'from___': 1,\n",
       "         '\"outlook': 2,\n",
       "         'color': 31,\n",
       "         'schemes.\"': 1,\n",
       "         '\"settings,': 1,\n",
       "         'current': 91,\n",
       "         'size': 39,\n",
       "         ',': 28,\n",
       "         '\"open': 7,\n",
       "         'network': 49,\n",
       "         '+': 20,\n",
       "         'settings': 53,\n",
       "         'tap': 22,\n",
       "         'settings.\"': 8,\n",
       "         '\"hit': 1,\n",
       "         'go': 66,\n",
       "         'sleep': 1,\n",
       "         'mode.\"': 10,\n",
       "         '\"wait': 2,\n",
       "         '15-20': 3,\n",
       "         'minutes': 21,\n",
       "         'switch': 38,\n",
       "         'mobile': 85,\n",
       "         'again.\"': 19,\n",
       "         'window': 66,\n",
       "         'blank': 10,\n",
       "         'heading': 1,\n",
       "         'it.\"': 57,\n",
       "         '\"100%': 3,\n",
       "         'reproducible': 2,\n",
       "         '920': 4,\n",
       "         'cyan': 1,\n",
       "         'update.\"': 18,\n",
       "         'always': 65,\n",
       "         'feature,': 6,\n",
       "         'fix': 63,\n",
       "         'asap.\"': 1,\n",
       "         '\"seems': 7,\n",
       "         'sd': 25,\n",
       "         'card': 31,\n",
       "         'wp': 55,\n",
       "         '8.1': 77,\n",
       "         'preview.\"': 4,\n",
       "         '\"its': 7,\n",
       "         'getting': 40,\n",
       "         'annoying.please': 1,\n",
       "         'this.\"': 39,\n",
       "         '\"i\\'ve': 33,\n",
       "         'been': 94,\n",
       "         'working': 91,\n",
       "         'lob': 5,\n",
       "         'field': 23,\n",
       "         '(civil/structural).\"': 1,\n",
       "         'point': 45,\n",
       "         'universal': 57,\n",
       "         'across': 26,\n",
       "         'devices': 81,\n",
       "         'so': 445,\n",
       "         'that': 1491,\n",
       "         'our': 134,\n",
       "         'engineers': 6,\n",
       "         'spend': 10,\n",
       "         'too': 64,\n",
       "         'much': 97,\n",
       "         'time': 194,\n",
       "         'learning': 8,\n",
       "         'relearning': 2,\n",
       "         'controls.\"': 8,\n",
       "         '\"and': 74,\n",
       "         'because': 205,\n",
       "         'runs': 12,\n",
       "         'tablets': 1,\n",
       "         \"pc's,\": 1,\n",
       "         'field,': 1,\n",
       "         'come': 17,\n",
       "         'back': 108,\n",
       "         'their': 164,\n",
       "         'office,': 4,\n",
       "         'continue': 16,\n",
       "         'data': 193,\n",
       "         'pc\\'s.\"': 2,\n",
       "         '\"because': 19,\n",
       "         'app,': 56,\n",
       "         'am': 131,\n",
       "         'hoping': 4,\n",
       "         'adapt': 4,\n",
       "         'as': 811,\n",
       "         'well.\"': 11,\n",
       "         '\"all': 28,\n",
       "         'saved': 25,\n",
       "         'are': 695,\n",
       "         'onedrive': 15,\n",
       "         'allow': 253,\n",
       "         'roaming': 4,\n",
       "         'between': 79,\n",
       "         'devices.\"': 12,\n",
       "         \"i've\": 48,\n",
       "         'found': 78,\n",
       "         'file': 180,\n",
       "         'picker': 9,\n",
       "         'does': 184,\n",
       "         'access': 198,\n",
       "         'futureaccesslist.\"': 3,\n",
       "         'aspect': 7,\n",
       "         'alone': 8,\n",
       "         'prevents': 10,\n",
       "         'any': 238,\n",
       "         'adaptation': 1,\n",
       "         'platform.\"': 13,\n",
       "         'file/folder': 2,\n",
       "         'location': 30,\n",
       "         '\"also,': 15,\n",
       "         'folder': 57,\n",
       "         'stored': 19,\n",
       "         'locally': 8,\n",
       "         'winrt.\"': 1,\n",
       "         '\"otherwise,': 1,\n",
       "         \"it's\": 175,\n",
       "         'real': 38,\n",
       "         'are___': 1,\n",
       "         '\"so': 94,\n",
       "         'far': 26,\n",
       "         'tried': 47,\n",
       "         'three': 21,\n",
       "         'different': 120,\n",
       "         'apps': 509,\n",
       "         'cannot': 108,\n",
       "         'pre': 1,\n",
       "         'photos.\"': 3,\n",
       "         'needs': 69,\n",
       "         'fixing': 3,\n",
       "         'number': 92,\n",
       "         '1': 36,\n",
       "         'priority.\"': 1,\n",
       "         'would': 877,\n",
       "         'nice': 116,\n",
       "         'give': 76,\n",
       "         'developers': 193,\n",
       "         'put': 47,\n",
       "         'payment': 21,\n",
       "         'hold': 11,\n",
       "         'reach': 17,\n",
       "         'appropriate': 6,\n",
       "         'threshold': 7,\n",
       "         'top': 56,\n",
       "         'next': 48,\n",
       "         'due': 23,\n",
       "         'that.\"': 17,\n",
       "         '\"in': 154,\n",
       "         'wp8.1': 23,\n",
       "         'preview': 25,\n",
       "         'theres': 1,\n",
       "         'bug': 56,\n",
       "         'push': 23,\n",
       "         'service.\"': 7,\n",
       "         'i__m': 3,\n",
       "         'connection,': 3,\n",
       "         'get': 267,\n",
       "         'all': 372,\n",
       "         'notifications,': 1,\n",
       "         'wifi': 39,\n",
       "         'connection': 39,\n",
       "         'server.\"': 6,\n",
       "         '\"no': 9,\n",
       "         'myself,': 2,\n",
       "         'turn': 36,\n",
       "         'off': 48,\n",
       "         'manually': 33,\n",
       "         'over': 80,\n",
       "         'works.\"': 5,\n",
       "         '8.0': 6,\n",
       "         'gdr': 1,\n",
       "         '3,': 2,\n",
       "         'system': 86,\n",
       "         'recognized': 2,\n",
       "         'automaticly': 4,\n",
       "         'wich': 2,\n",
       "         'service': 72,\n",
       "         'cellular': 9,\n",
       "         'wifi.\"': 3,\n",
       "         '\"everytime': 2,\n",
       "         'works,': 2,\n",
       "         'doesn__t.\"': 1,\n",
       "         'try': 68,\n",
       "         'insert': 5,\n",
       "         'bank': 7,\n",
       "         'account': 102,\n",
       "         'error': 63,\n",
       "         'validation': 10,\n",
       "         'country': 27,\n",
       "         'account.\"': 23,\n",
       "         'think': 130,\n",
       "         'correct,': 1,\n",
       "         'paypal': 5,\n",
       "         'money': 13,\n",
       "         'another': 95,\n",
       "         \"don't\": 155,\n",
       "         'want': 263,\n",
       "         'pay': 19,\n",
       "         'extra': 21,\n",
       "         'costs': 3,\n",
       "         'also': 226,\n",
       "         'tax': 4,\n",
       "         'plan': 5,\n",
       "         'validate': 2,\n",
       "         'according': 16,\n",
       "         '\":': 4,\n",
       "         'post': 51,\n",
       "         'voted': 2,\n",
       "         \"can't\": 129,\n",
       "         'change': 111,\n",
       "         'voted___': 1,\n",
       "         'did': 30,\n",
       "         'report': 22,\n",
       "         'purchases': 10,\n",
       "         'today': 21,\n",
       "         'noticed': 30,\n",
       "         'every': 105,\n",
       "         'line': 32,\n",
       "         'item': 57,\n",
       "         'shows': 43,\n",
       "         '1.0.0': 1,\n",
       "         'most': 75,\n",
       "         'certainly': 8,\n",
       "         'case.\"': 5,\n",
       "         '\"make': 31,\n",
       "         'vision': 14,\n",
       "         'lens': 2,\n",
       "         'camera': 31,\n",
       "         'pinnable': 2,\n",
       "         'quick': 16,\n",
       "         'again': 43,\n",
       "         'and/or': 19,\n",
       "         'cortana': 35,\n",
       "         'screen,': 7,\n",
       "         'left': 66,\n",
       "         'music': 60,\n",
       "         'perhaps.\"': 1,\n",
       "         'we': 484,\n",
       "         'were': 59,\n",
       "         'able': 293,\n",
       "         'directly': 62,\n",
       "         'facebook': 32,\n",
       "         'through': 124,\n",
       "         'people': 91,\n",
       "         'hub.\"': 10,\n",
       "         '\"comment': 1,\n",
       "         'photos,': 3,\n",
       "         'walls': 1,\n",
       "         'without': 153,\n",
       "         'having': 115,\n",
       "         'enter': 24,\n",
       "         '\"we': 113,\n",
       "         'text': 132,\n",
       "         'messages': 22,\n",
       "         'fly.\"': 1,\n",
       "         '\"now': 40,\n",
       "         'open.\"': 6,\n",
       "         '\"on': 38,\n",
       "         'takes': 45,\n",
       "         'significantly': 5,\n",
       "         'longer': 21,\n",
       "         'now.\"': 16,\n",
       "         '\"it\\'s': 57,\n",
       "         'slow!!!!\"': 1,\n",
       "         'bring': 34,\n",
       "         'simplicity': 1,\n",
       "         'efficiency': 3,\n",
       "         'phone!\"': 4,\n",
       "         '\"while': 14,\n",
       "         'was': 264,\n",
       "         'building': 19,\n",
       "         'web': 100,\n",
       "         'application,': 11,\n",
       "         'single': 35,\n",
       "         'page': 136,\n",
       "         'applications': 94,\n",
       "         'url:': 1,\n",
       "         'http://www.contoso.com/!#/': 1,\n",
       "         'display': 67,\n",
       "         'refresh': 9,\n",
       "         'load': 23,\n",
       "         'check': 48,\n",
       "         'that?\"': 4,\n",
       "         'great': 156,\n",
       "         'remoteid': 4,\n",
       "         'calendars.\"': 1,\n",
       "         '\"appointments': 1,\n",
       "         'calendars': 5,\n",
       "         'don\\'t.\"': 3,\n",
       "         'easier': 28,\n",
       "         'sync': 20,\n",
       "         'appointments.\"': 2,\n",
       "         'application': 221,\n",
       "         'unpublished': 2,\n",
       "         'by': 402,\n",
       "         'microsoft,': 6,\n",
       "         'reason': 38,\n",
       "         'sent': 20,\n",
       "         'email.\"': 4,\n",
       "         'email': 65,\n",
       "         'received': 10,\n",
       "         '(like': 29,\n",
       "         'case)': 3,\n",
       "         'developer': 189,\n",
       "         \"doesn't\": 163,\n",
       "         'know': 129,\n",
       "         'reason.\"': 4,\n",
       "         '\"however': 37,\n",
       "         'easily': 37,\n",
       "         'fixed': 27,\n",
       "         'writing': 30,\n",
       "         'center.\"': 14,\n",
       "         'winrt,': 1,\n",
       "         'tilebrush': 3,\n",
       "         'class': 65,\n",
       "         'missing': 39,\n",
       "         'tilemode': 1,\n",
       "         'view*': 1,\n",
       "         'properties': 34,\n",
       "         'present': 15,\n",
       "         'other': 251,\n",
       "         'frameworks': 9,\n",
       "         'wpf': 35,\n",
       "         'silverlight.\"': 3,\n",
       "         'these': 127,\n",
       "         'image': 79,\n",
       "         'tiling': 3,\n",
       "         'properly.\"': 4,\n",
       "         '\"there': 123,\n",
       "         'tons': 6,\n",
       "         'requests': 6,\n",
       "         'past': 8,\n",
       "         'years.\"': 3,\n",
       "         '\"see': 8,\n",
       "         'thread': 20,\n",
       "         'example:': 18,\n",
       "         'http://social.msdn.microsoft.com/forums/windowsapps/en-us/bb5aa859-e3d1-46f2-a661-d4bdbee9a1f2/windowsuixamlmediaimagebrush?forum=winappswithcsharp\"': 1,\n",
       "         'lockscreen': 6,\n",
       "         'attribute': 18,\n",
       "         'separated': 3,\n",
       "         'out': 115,\n",
       "         'attributes.\"': 1,\n",
       "         '\"to': 40,\n",
       "         'provide': 143,\n",
       "         'its': 122,\n",
       "         'necessary': 15,\n",
       "         'widebackcontent': 1,\n",
       "         'flip': 4,\n",
       "         'tile.\"': 6,\n",
       "         'generated': 19,\n",
       "         'custom': 71,\n",
       "         'flip,': 1,\n",
       "         'feature.\"': 14,\n",
       "         '\"i\\'m': 67,\n",
       "         'trying': 52,\n",
       "         'api': 210,\n",
       "         'contacts': 25,\n",
       "         'namespace': 6,\n",
       "         'windows.applicationmodel.contacts,': 1,\n",
       "         'expected.\"': 5,\n",
       "         '\"first': 7,\n",
       "         'all,': 7,\n",
       "         'ioexception': 1,\n",
       "         'pickcontactasync().\"': 1,\n",
       "         'strange,': 1,\n",
       "         'since': 82,\n",
       "         'expecting': 6,\n",
       "         'see': 222,\n",
       "         'least': 73,\n",
       "         'launched,': 1,\n",
       "         'seems': 76,\n",
       "         \"there's\": 35,\n",
       "         'some': 276,\n",
       "         'problem': 121,\n",
       "         'establishing': 1,\n",
       "         'contract.\"': 2,\n",
       "         'checked': 4,\n",
       "         'permission': 15,\n",
       "         'enabled': 15,\n",
       "         'package.appxmanifest.\"': 1,\n",
       "         '/': 60,\n",
       "         'rt': 7,\n",
       "         'che': 3,\n",
       "         'pickcontactasync()': 4,\n",
       "         'instaed,': 2,\n",
       "         'firstname': 8,\n",
       "         'lastname': 8,\n",
       "         'both': 76,\n",
       "         '(and': 43,\n",
       "         'empty),': 1,\n",
       "         'importantdates': 1,\n",
       "         '(e.g.\"': 11,\n",
       "         '\"birthday)': 1,\n",
       "         'set': 171,\n",
       "         'low': 17,\n",
       "         'values': 17,\n",
       "         '05/05/0004),': 1,\n",
       "         'navigate': 16,\n",
       "         'outlook.com': 1,\n",
       "         'contacts/people': 1,\n",
       "         'right': 96,\n",
       "         'values.\"': 1,\n",
       "         '\"maybe': 19,\n",
       "         \"i'm\": 98,\n",
       "         'something,': 1,\n",
       "         'broken.\"': 2,\n",
       "         'is___': 4,\n",
       "         '\"although': 5,\n",
       "         'possible': 162,\n",
       "         'define': 12,\n",
       "         'etw': 8,\n",
       "         'events,': 8,\n",
       "         'generate': 26,\n",
       "         'those': 82,\n",
       "         'publicly': 1,\n",
       "         'available': 116,\n",
       "         'tooling': 9,\n",
       "         'currently': 153,\n",
       "         'events.\"': 10,\n",
       "         'tools': 28,\n",
       "         'collection': 17,\n",
       "         'predefined': 3,\n",
       "         'profiles': 2,\n",
       "         'certain': 34,\n",
       "         'appears': 36,\n",
       "         'tell': 31,\n",
       "         'collect': 6,\n",
       "         'own': 85,\n",
       "         'event': 70,\n",
       "         'sources.\"': 3,\n",
       "         'although': 7,\n",
       "         'in,': 5,\n",
       "         'e.g.,': 2,\n",
       "         '.net-based': 2,\n",
       "         'apps,': 27,\n",
       "         'system.diagnostics.tracing.eventsource': 2,\n",
       "         'used': 139,\n",
       "         'appear': 25,\n",
       "         'moment': 23,\n",
       "         'actually': 47,\n",
       "         'record': 9,\n",
       "         'events': 27,\n",
       "         'trace!\"': 1,\n",
       "         '\"just': 23,\n",
       "         'clear,': 1,\n",
       "         '*not*': 1,\n",
       "         'duplicate': 9,\n",
       "         'http://wpdev.uservoice.com/forums/110705-dev-platform/suggestions/3743880-please-provide-etw-logging-from-a-windows-phone-8': 1,\n",
       "         'reply': 13,\n",
       "         'points': 15,\n",
       "         'out,': 5,\n",
       "         'already': 111,\n",
       "         'log': 29,\n",
       "         '\"what': 31,\n",
       "         'ability': 107,\n",
       "         'alongside': 7,\n",
       "         'system-provided': 2,\n",
       "         'how': 123,\n",
       "         \"code's\": 2,\n",
       "         'activity': 4,\n",
       "         'fits': 2,\n",
       "         'behaviour.\"': 3,\n",
       "         'you___': 1,\n",
       "         'integration': 33,\n",
       "         '8.1.\"': 4,\n",
       "         'fast': 24,\n",
       "         'view': 61,\n",
       "         'pictures': 22,\n",
       "         'under': 60,\n",
       "         'photo': 38,\n",
       "         'albums': 6,\n",
       "         'easily.\"': 3,\n",
       "         'long': 42,\n",
       "         'load.\"': 4,\n",
       "         'happened': 11,\n",
       "         'integration.\"': 4,\n",
       "         'good': 119,\n",
       "         '7.8.\"': 1,\n",
       "         'could': 339,\n",
       "         'minimize': 8,\n",
       "         'maximize': 7,\n",
       "         'maximize.\"': 1,\n",
       "         'purchased': 7,\n",
       "         'smooth': 6,\n",
       "         'slowly': 1,\n",
       "         'moving': 17,\n",
       "         'towards': 4,\n",
       "         'os': 46,\n",
       "         '\"microsoft': 20,\n",
       "         'smsreceived': 1,\n",
       "         'notified': 3,\n",
       "         'sms': 27,\n",
       "         'received,': 1,\n",
       "         'such': 135,\n",
       "         'call,': 6,\n",
       "         'phonereveived...\"': 1,\n",
       "         '\"moreover,': 2,\n",
       "         'better': 91,\n",
       "         'read-only': 2,\n",
       "         'history,': 3,\n",
       "         'help': 50,\n",
       "         'related': 39,\n",
       "         'android.\"': 9,\n",
       "         'mapicon': 7,\n",
       "         'sdk': 59,\n",
       "         'zindex': 1,\n",
       "         'tapped': 2,\n",
       "         'accessible': 11,\n",
       "         'too\"': 2,\n",
       "         '\"allow': 66,\n",
       "         'messaging': 17,\n",
       "         'join': 1,\n",
       "         'default': 70,\n",
       "         '(hub': 1,\n",
       "         'message)': 2,\n",
       "         'full': 64,\n",
       "         'interaction.\"': 3,\n",
       "         '\"-applications': 1,\n",
       "         'hub': 21,\n",
       "         'message': 65,\n",
       "         'send/view/delete/etc...': 1,\n",
       "         '-the': 2,\n",
       "         'uses': 48,\n",
       "         'others': 19,\n",
       "         'thing': 35,\n",
       "         '(send/view/delete/etc...': 1,\n",
       "         'messages).\"': 1,\n",
       "         'means,': 3,\n",
       "         'developper': 2,\n",
       "         'ablity': 1,\n",
       "         'apis': 62,\n",
       "         'it\"': 3,\n",
       "         'synchronize': 4,\n",
       "         'clock': 8,\n",
       "         'via': 109,\n",
       "         'internet.\"': 2,\n",
       "         'countries': 14,\n",
       "         'provider': 4,\n",
       "         'services.\"': 5,\n",
       "         '\"include': 7,\n",
       "         'add,': 1,\n",
       "         'remove,': 1,\n",
       "         'deactivate': 2,\n",
       "         'tracking': 15,\n",
       "         'protection': 4,\n",
       "         'lists': 11,\n",
       "         '(tpl),': 1,\n",
       "         'further': 14,\n",
       "         'drive': 18,\n",
       "         'down': 49,\n",
       "         'usage,': 4,\n",
       "         'selective': 2,\n",
       "         'against': 11,\n",
       "         'rogue': 2,\n",
       "         'sites': 10,\n",
       "         'tracking,': 1,\n",
       "         'sense': 33,\n",
       "         'control.\"': 25,\n",
       "         'desktop': 136,\n",
       "         'ie.\"': 3,\n",
       "         'more': 312,\n",
       "         'understand': 58,\n",
       "         'coming': 11,\n",
       "         'cortanan.\"': 1,\n",
       "         '\"things': 3,\n",
       "         'about': 119,\n",
       "         'understanding': 6,\n",
       "         'dates': 4,\n",
       "         'times.\"': 8,\n",
       "         'planning': 2,\n",
       "         'agenda': 2,\n",
       "         'done': 40,\n",
       "         'nicely.\"': 1,\n",
       "         '\"pivot': 1,\n",
       "         'panorama': 11,\n",
       "         'controls': 59,\n",
       "         'options': 42,\n",
       "         'enable/disable': 3,\n",
       "         'wrapping.\"': 1,\n",
       "         'scroll': 30,\n",
       "         'viewer': 13,\n",
       "         'disable': 28,\n",
       "         'overscrolling': 2,\n",
       "         'effect.\"': 1,\n",
       "         'program': 19,\n",
       "         'windowsphone': 10,\n",
       "         '(livesdk': 1,\n",
       "         '5.6)': 1,\n",
       "         'bool': 2,\n",
       "         'connected': 33,\n",
       "         '=': 49,\n",
       "         'false;': 1,\n",
       "         '{': 41,\n",
       "         'var': 11,\n",
       "         'authclient': 2,\n",
       "         'liveauthclient();': 1,\n",
       "         'liveloginresult': 3,\n",
       "         'result': 35,\n",
       "         'await': 10,\n",
       "         'authclient.loginasync(new': 2,\n",
       "         'string[]': 2,\n",
       "         '\"wl.signin\",': 2,\n",
       "         '\"wl.skydrive\"': 2,\n",
       "         '});': 4,\n",
       "         '(result.status': 1,\n",
       "         '==': 3,\n",
       "         'liveconnectsessionstatus.connected)': 1,\n",
       "         'true;': 1,\n",
       "         'connectclient': 1,\n",
       "         'liveconnectclient(result.session);': 1,\n",
       "         'meresult': 1,\n",
       "         'connectclient.getasync(\"me\");': 1,\n",
       "         'dynamic': 8,\n",
       "         'medata': 1,\n",
       "         'meresult.result;': 1,\n",
       "         '}': 29,\n",
       "         'catch': 13,\n",
       "         '(liveauthexception': 1,\n",
       "         'ex)': 2,\n",
       "         '//': 10,\n",
       "         'message.': 2,\n",
       "         '}\"': 2,\n",
       "         '\"catch': 1,\n",
       "         '(liveconnectexception': 1,\n",
       "         'generic': 14,\n",
       "         'exception,': 2,\n",
       "         'obtain': 5,\n",
       "         'exception': 31,\n",
       "         'message:': 4,\n",
       "         'object': 29,\n",
       "         'reference': 12,\n",
       "         'istance': 2,\n",
       "         'row': 13,\n",
       "         ':': 32,\n",
       "         'null.\"': 1,\n",
       "         'wrote': 4,\n",
       "         'msdn': 8,\n",
       "         'forum,': 1,\n",
       "         'reply...\"': 1,\n",
       "         '=___': 1,\n",
       "         'recover': 1,\n",
       "         'files.\"': 11,\n",
       "         '\"hoello,': 1,\n",
       "         'silverlight': 36,\n",
       "         'forced': 13,\n",
       "         '\"fast': 3,\n",
       "         'resume\".\"': 1,\n",
       "         'broken': 12,\n",
       "         'swipe': 28,\n",
       "         'tunes': 1,\n",
       "         'hastilly': 1,\n",
       "         'submitted': 12,\n",
       "         'transparent': 6,\n",
       "         'realised': 1,\n",
       "         'later': 21,\n",
       "         'resume': 10,\n",
       "         'causing': 8,\n",
       "         'issues': 31,\n",
       "         'secondary': 12,\n",
       "         'tiles': 39,\n",
       "         'etc.\"': 47,\n",
       "         'pretty': 15,\n",
       "         'killed': 1,\n",
       "         'delete': 44,\n",
       "         'store,': 16,\n",
       "         'looks': 45,\n",
       "         'name': 74,\n",
       "         'abandon': 2,\n",
       "         'previous': 28,\n",
       "         'customers.\"': 4,\n",
       "         'cant': 21,\n",
       "         'wpappmanifest': 2,\n",
       "         'untick': 2,\n",
       "         'resume\"': 1,\n",
       "         'run': 81,\n",
       "         'wp8?\"': 2,\n",
       "         '\"http://windowsphone.uservoice.com/forums/101801-feature-suggestions/suggestions/6080912-we-want-open-the-app-by-tap-the-quick-status-icon\"': 1,\n",
       "         'nfc': 17,\n",
       "         'capable': 11,\n",
       "         'phones': 34,\n",
       "         'wallet': 4,\n",
       "         'locations': 2,\n",
       "         'where': 155,\n",
       "         'readers': 10,\n",
       "         '\"google': 12,\n",
       "         'almost': 19,\n",
       "         '3': 32,\n",
       "         'years': 15,\n",
       "         'youtube': 28,\n",
       "         'google': 94,\n",
       "         'mcd.\"': 1,\n",
       "         '\"support': 10,\n",
       "         'destroy': 3,\n",
       "         'argument': 7,\n",
       "         'apple': 26,\n",
       "         \"aren't\": 12,\n",
       "         'going': 39,\n",
       "         'soon': 13,\n",
       "         'close': 37,\n",
       "         'gap': 3,\n",
       "         'functionality': 47,\n",
       "         '\"developers': 12,\n",
       "         'create/edit': 1,\n",
       "         'document': 12,\n",
       "         'apps.\"': 68,\n",
       "         '\"thereby,': 1,\n",
       "         'integrate': 18,\n",
       "         'winrt': 43,\n",
       "         'office.\"': 3,\n",
       "         '\"openxml': 2,\n",
       "         'office': 29,\n",
       "         '__': 5,\n",
       "         'primary': 17,\n",
       "         'interop': 7,\n",
       "         'assembly': 7,\n",
       "         'classes': 23,\n",
       "         'win8': 5,\n",
       "         'productive': 2,\n",
       "         'businesses!\"': 1,\n",
       "         'pubcenter': 8,\n",
       "         'claims': 1,\n",
       "         'interstitials.\"': 1,\n",
       "         '\"however,': 29,\n",
       "         'bigger': 6,\n",
       "         'ad': 28,\n",
       "         'formats': 17,\n",
       "         'interstitials': 1,\n",
       "         'networks.\"': 2,\n",
       "         '\"interstitials': 1,\n",
       "         'break': 6,\n",
       "         'game.\"': 2,\n",
       "         '\"therefore': 2,\n",
       "         'game': 22,\n",
       "         'important': 38,\n",
       "         'fill': 7,\n",
       "         'rate.\"': 1,\n",
       "         '\"allowing': 6,\n",
       "         'prefetch': 2,\n",
       "         'optimise': 4,\n",
       "         'his': 24,\n",
       "         'strategy.\"': 1,\n",
       "         '\"he': 2,\n",
       "         'house': 7,\n",
       "         'request).\"': 1,\n",
       "         'cpu': 6,\n",
       "         '&': 40,\n",
       "         'gpu': 4,\n",
       "         'c#\"': 1,\n",
       "         'style': 34,\n",
       "         'part': 50,\n",
       "         '\"font-style:': 1,\n",
       "         'italic\"': 1,\n",
       "         ...})"
      ]
     },
     "execution_count": 34,
     "metadata": {},
     "output_type": "execute_result"
    }
   ],
   "source": [
    "#TEXT.vocab.freqs"
   ]
  },
  {
   "cell_type": "code",
   "execution_count": 11,
   "metadata": {},
   "outputs": [],
   "source": [
    "TEXT.build_vocab(train, vectors=GloVe(name='840B', dim=300, cache='.embeddings'))\n",
    "#LABEL.build_vocab(train)\n",
    "outputs_cove_with_glove = MTLSTM(n_vocab=len(TEXT.vocab), vectors=TEXT.vocab.vectors, residual_embeddings=True, model_cache='.embeddings')\n",
    "#glove_then_first_then_last_layer_cove = outputs_both_layer_cove_with_glove(<pass a sentence Glove embedding>)"
   ]
  },
  {
   "cell_type": "code",
   "execution_count": 64,
   "metadata": {},
   "outputs": [
    {
     "data": {
      "text/plain": [
       "18349"
      ]
     },
     "execution_count": 64,
     "metadata": {},
     "output_type": "execute_result"
    }
   ],
   "source": [
    "len(TEXT.vocab)"
   ]
  },
  {
   "cell_type": "code",
   "execution_count": 10,
   "metadata": {},
   "outputs": [
    {
     "data": {
      "text/plain": [
       "torch.Size([18349, 300])"
      ]
     },
     "execution_count": 10,
     "metadata": {},
     "output_type": "execute_result"
    }
   ],
   "source": [
    "TEXT.vocab.vectors.shape"
   ]
  },
  {
   "cell_type": "code",
   "execution_count": 12,
   "metadata": {},
   "outputs": [],
   "source": [
    "train_iter = data.Iterator(\n",
    "    (train),\n",
    "    batch_size=5)"
   ]
  },
  {
   "cell_type": "code",
   "execution_count": 116,
   "metadata": {},
   "outputs": [
    {
     "data": {
      "text/plain": [
       "tensor([14, 15,  5, 15, 11])"
      ]
     },
     "execution_count": 116,
     "metadata": {},
     "output_type": "execute_result"
    }
   ],
   "source": [
    "z.sentence[1]"
   ]
  },
  {
   "cell_type": "code",
   "execution_count": 17,
   "metadata": {},
   "outputs": [],
   "source": [
    "import os\n",
    "from collections import defaultdict\n",
    "import numpy as np\n",
    "import torch\n",
    "import torch.nn as nn\n",
    "import torch.nn.functional as F\n",
    "import torch.optim as optim\n",
    "from torch.utils import data\n",
    "\n",
    "\n",
    "class CNN_GC(nn.Module):\n",
    "\n",
    "    def __init__(self,out_dim=200,gc_dim=900,max_len=1000, dropout=0.5):\n",
    "        super(CNN_GC, self).__init__()\n",
    "        \n",
    "        \"\"\"cove_model = CoVeEmbeddings(\n",
    "            word_embeddings_dir='../model/text/stanford/glove/', \n",
    "            tokenizer=tokenizer,\n",
    "            max_sequence_length=max_len, verbose=20)\n",
    "        glove_model = GloVeEmbeddings()\n",
    "        glove_model.load_model(dest_dir='../model/text/stanford/glove/', process=False)\"\"\"\n",
    "        \n",
    "        self.gc_dim = gc_dim\n",
    "        self.out_dim = out_dim\n",
    "        self.max_len = max_len\n",
    "        self.dropout = dropout\n",
    "\n",
    "        self.conv_3 = nn.Conv1d(gc_dim, out_dim, 3, stride=1, padding=1)\n",
    "        self.conv_5 = nn.Conv1d(gc_dim, out_dim, 5, stride=1, padding=2)\n",
    "        self.conv_7 = nn.Conv1d(gc_dim, out_dim, 7, stride=1, padding=3)\n",
    "        self.attn = nn.Linear(3*out_dim*max_len, max_len)\n",
    "\n",
    "    def forward(self,x):\n",
    "        #cove_embed = cove_model.encode(x)\n",
    "        #tokens = [sentence.split(\" \") for sentence in x]\n",
    "        #glove_embed = glove_model.encode(tokens)\n",
    "        #x = torch.cat([cove_embed,glove_embed], 2)\n",
    "        \n",
    "        conv_3 = F.relu(self.conv_3(x))\n",
    "        conv_5 = F.relu(self.conv_5(x))\n",
    "        conv_7 = F.relu(self.conv_7(x))\n",
    "        x = torch.cat([conv_3,conv_5,conv_7], 1)\n",
    "        print(x.shape)\n",
    "        \n",
    "        non_linear_x = F.relu(x.view(-1, 600*self.max_len))\n",
    "        print(non_linear_x.shape)\n",
    "        attn_weights = F.softmax(self.attn(non_linear_x), dim=1)\n",
    "        print(attn_weights.shape)\n",
    "        #attn_applied = torch.bmm(attn_weights.unsqueeze(1), x)\n",
    "        #attn_applied = attn_weights*x\n",
    "        attn_applied = torch.zeros(x.shape[0], x.shape[1], x.shape[2])\n",
    "        for i in range(x.shape[0]):\n",
    "            attn_applied[i,:,:] = x[i,:,:]*attn_weights[i]\n",
    "        print(\"hello\")\n",
    "        print(attn_applied.shape)\n",
    "        \n",
    "        x = attn_applied.sum(dim=2)\n",
    "        return x"
   ]
  },
  {
   "cell_type": "code",
   "execution_count": 15,
   "metadata": {},
   "outputs": [],
   "source": [
    "model = CNN_GC()"
   ]
  },
  {
   "cell_type": "code",
   "execution_count": 239,
   "metadata": {},
   "outputs": [
    {
     "name": "stdout",
     "output_type": "stream",
     "text": [
      "torch.Size([5, 600, 1000])\n",
      "torch.Size([5, 1000])\n",
      "torch.Size([5, 600, 1000])\n"
     ]
    }
   ],
   "source": [
    "a = torch.randn(5, 600, 1000)\n",
    "print(a.shape)\n",
    "list = [[0,2]*500]*5\n",
    "b = torch.tensor(list2)\n",
    "print(b.shape)\n",
    "\n",
    "c = torch.zeros(5, 600, 1000)\n",
    "for i in range(a.shape[0]):\n",
    "    c[i,:,:] = a[i,:,:]*b[i]\n",
    "print(c.shape)"
   ]
  },
  {
   "cell_type": "code",
   "execution_count": 19,
   "metadata": {},
   "outputs": [
    {
     "name": "stdout",
     "output_type": "stream",
     "text": [
      "torch.Size([5, 900, 1000])\n",
      "torch.Size([5, 600, 1000])\n",
      "torch.Size([5, 600000])\n",
      "torch.Size([5, 1000])\n",
      "hello\n",
      "torch.Size([5, 600, 1000])\n",
      "torch.Size([5, 600])\n"
     ]
    }
   ],
   "source": [
    "z = None\n",
    "for batch_idx, batch in enumerate(train_iter):\n",
    "    z = batch\n",
    "    \n",
    "    glove_then_last_layer_cove = outputs_cove_with_glove(*batch.sentence)\n",
    "    \n",
    "    target = torch.zeros(5, 1000, 900)\n",
    "    max_sentence_len_in_batch = max(batch.sentence[1].tolist())\n",
    "    target[:, :max_sentence_len_in_batch, :] = glove_then_last_layer_cove\n",
    "    glove_then_last_layer_cove = target.permute(0,2,1)\n",
    "    print(glove_then_last_layer_cove.shape)\n",
    "    output = model(glove_then_last_layer_cove)\n",
    "    print(output.shape)\n",
    "    break"
   ]
  },
  {
   "cell_type": "code",
   "execution_count": 21,
   "metadata": {},
   "outputs": [
    {
     "data": {
      "text/plain": [
       "(tensor([[   48,    20,    81,  1256,    13,    12,   965,    17,     3,   262,\n",
       "              5,   130,     9,     2,   179,  2634,  1320,  2182,     3,    14,\n",
       "            672,   284,   477,     1,     1,     1],\n",
       "         [ 8328,   182,    20,    10,   118,    24, 17975,   118, 13713,     1,\n",
       "              1,     1,     1,     1,     1,     1,     1,     1,     1,     1,\n",
       "              1,     1,     1,     1,     1,     1],\n",
       "         [  108,    64, 14073,   312, 16793,     1,     1,     1,     1,     1,\n",
       "              1,     1,     1,     1,     1,     1,     1,     1,     1,     1,\n",
       "              1,     1,     1,     1,     1,     1],\n",
       "         [  508,     6,    30,    79,    17,    22,    86,     9,   310,     1,\n",
       "              1,     1,     1,     1,     1,     1,     1,     1,     1,     1,\n",
       "              1,     1,     1,     1,     1,     1],\n",
       "         [  112,    11,     6,    19,  2746,   206,    75,     6,    11,    19,\n",
       "            456,    23,  5720,     9,    95,  7519,    66,   134,   143,    12,\n",
       "            464,     5,     6,    11,   133, 13877]]),\n",
       " tensor([23,  9,  5,  9, 26]))"
      ]
     },
     "execution_count": 21,
     "metadata": {},
     "output_type": "execute_result"
    }
   ],
   "source": [
    "z.sentence"
   ]
  },
  {
   "cell_type": "code",
   "execution_count": 26,
   "metadata": {},
   "outputs": [
    {
     "data": {
      "text/plain": [
       "'<pad>'"
      ]
     },
     "execution_count": 26,
     "metadata": {},
     "output_type": "execute_result"
    }
   ],
   "source": [
    "TEXT.vocab.itos[1]"
   ]
  },
  {
   "cell_type": "code",
   "execution_count": 156,
   "metadata": {
    "scrolled": true
   },
   "outputs": [
    {
     "data": {
      "text/plain": [
       "tensor([0., 0., 0., 0., 0., 0., 0., 0., 0., 0., 0., 0., 0., 0., 0., 0., 0., 0., 0., 0., 0., 0., 0., 0.,\n",
       "        0., 0., 0., 0., 0., 0., 0., 0., 0., 0., 0., 0., 0., 0., 0., 0., 0., 0., 0., 0., 0., 0., 0., 0.,\n",
       "        0., 0., 0., 0., 0., 0., 0., 0., 0., 0., 0., 0., 0., 0., 0., 0., 0., 0., 0., 0., 0., 0., 0., 0.,\n",
       "        0., 0., 0., 0., 0., 0., 0., 0., 0., 0., 0., 0., 0., 0., 0., 0., 0., 0., 0., 0., 0., 0., 0., 0.,\n",
       "        0., 0., 0., 0., 0., 0., 0., 0., 0., 0., 0., 0., 0., 0., 0., 0., 0., 0., 0., 0., 0., 0., 0., 0.,\n",
       "        0., 0., 0., 0., 0., 0., 0., 0., 0., 0., 0., 0., 0., 0., 0., 0., 0., 0., 0., 0., 0., 0., 0., 0.,\n",
       "        0., 0., 0., 0., 0., 0., 0., 0., 0., 0., 0., 0., 0., 0., 0., 0., 0., 0., 0., 0., 0., 0., 0., 0.,\n",
       "        0., 0., 0., 0., 0., 0., 0., 0., 0., 0., 0., 0., 0., 0., 0., 0., 0., 0., 0., 0., 0., 0., 0., 0.,\n",
       "        0., 0., 0., 0., 0., 0., 0., 0., 0., 0., 0., 0., 0., 0., 0., 0., 0., 0., 0., 0., 0., 0., 0., 0.,\n",
       "        0., 0., 0., 0., 0., 0., 0., 0., 0., 0., 0., 0., 0., 0., 0., 0., 0., 0., 0., 0., 0., 0., 0., 0.,\n",
       "        0., 0., 0., 0., 0., 0., 0., 0., 0., 0., 0., 0., 0., 0., 0., 0., 0., 0., 0., 0., 0., 0., 0., 0.,\n",
       "        0., 0., 0., 0., 0., 0., 0., 0., 0., 0., 0., 0., 0., 0., 0., 0., 0., 0., 0., 0., 0., 0., 0., 0.,\n",
       "        0., 0., 0., 0., 0., 0., 0., 0., 0., 0., 0., 0., 0., 0., 0., 0., 0., 0., 0., 0., 0., 0., 0., 0.,\n",
       "        0., 0., 0., 0., 0., 0., 0., 0., 0., 0., 0., 0., 0., 0., 0., 0., 0., 0., 0., 0., 0., 0., 0., 0.,\n",
       "        0., 0., 0., 0., 0., 0., 0., 0., 0., 0., 0., 0., 0., 0., 0., 0., 0., 0., 0., 0., 0., 0., 0., 0.,\n",
       "        0., 0., 0., 0., 0., 0., 0., 0., 0., 0., 0., 0., 0., 0., 0., 0., 0., 0., 0., 0., 0., 0., 0., 0.,\n",
       "        0., 0., 0., 0., 0., 0., 0., 0., 0., 0., 0., 0., 0., 0., 0., 0., 0., 0., 0., 0., 0., 0., 0., 0.,\n",
       "        0., 0., 0., 0., 0., 0., 0., 0., 0., 0., 0., 0., 0., 0., 0., 0., 0., 0., 0., 0., 0., 0., 0., 0.,\n",
       "        0., 0., 0., 0., 0., 0., 0., 0., 0., 0., 0., 0., 0., 0., 0., 0., 0., 0., 0., 0., 0., 0., 0., 0.,\n",
       "        0., 0., 0., 0., 0., 0., 0., 0., 0., 0., 0., 0., 0., 0., 0., 0., 0., 0., 0., 0., 0., 0., 0., 0.,\n",
       "        0., 0., 0., 0., 0., 0., 0., 0., 0., 0., 0., 0., 0., 0., 0., 0., 0., 0., 0., 0., 0., 0., 0., 0.,\n",
       "        0., 0., 0., 0., 0., 0., 0., 0., 0., 0., 0., 0., 0., 0., 0., 0., 0., 0., 0., 0., 0., 0., 0., 0.,\n",
       "        0., 0., 0., 0., 0., 0., 0., 0., 0., 0., 0., 0., 0., 0., 0., 0., 0., 0., 0., 0., 0., 0., 0., 0.,\n",
       "        0., 0., 0., 0., 0., 0., 0., 0., 0., 0., 0., 0., 0., 0., 0., 0., 0., 0., 0., 0., 0., 0., 0., 0.,\n",
       "        0., 0., 0., 0., 0., 0., 0., 0., 0., 0., 0., 0., 0., 0., 0., 0., 0., 0., 0., 0., 0., 0., 0., 0.,\n",
       "        0., 0., 0., 0., 0., 0., 0., 0., 0., 0., 0., 0., 0., 0., 0., 0., 0., 0., 0., 0., 0., 0., 0., 0.,\n",
       "        0., 0., 0., 0., 0., 0., 0., 0., 0., 0., 0., 0., 0., 0., 0., 0., 0., 0., 0., 0., 0., 0., 0., 0.,\n",
       "        0., 0., 0., 0., 0., 0., 0., 0., 0., 0., 0., 0., 0., 0., 0., 0., 0., 0., 0., 0., 0., 0., 0., 0.,\n",
       "        0., 0., 0., 0., 0., 0., 0., 0., 0., 0., 0., 0., 0., 0., 0., 0., 0., 0., 0., 0., 0., 0., 0., 0.,\n",
       "        0., 0., 0., 0., 0., 0., 0., 0., 0., 0., 0., 0., 0., 0., 0., 0., 0., 0., 0., 0., 0., 0., 0., 0.,\n",
       "        0., 0., 0., 0., 0., 0., 0., 0., 0., 0., 0., 0., 0., 0., 0., 0., 0., 0., 0., 0., 0., 0., 0., 0.,\n",
       "        0., 0., 0., 0., 0., 0., 0., 0., 0., 0., 0., 0., 0., 0., 0., 0., 0., 0., 0., 0., 0., 0., 0., 0.,\n",
       "        0., 0., 0., 0., 0., 0., 0., 0., 0., 0., 0., 0., 0., 0., 0., 0., 0., 0., 0., 0., 0., 0., 0., 0.,\n",
       "        0., 0., 0., 0., 0., 0., 0., 0., 0., 0., 0., 0., 0., 0., 0., 0., 0., 0., 0., 0., 0., 0., 0., 0.,\n",
       "        0., 0., 0., 0., 0., 0., 0., 0., 0., 0., 0., 0., 0., 0., 0., 0., 0., 0., 0., 0., 0., 0., 0., 0.,\n",
       "        0., 0., 0., 0., 0., 0., 0., 0., 0., 0., 0., 0., 0., 0., 0., 0., 0., 0., 0., 0., 0., 0., 0., 0.,\n",
       "        0., 0., 0., 0., 0., 0., 0., 0., 0., 0., 0., 0., 0., 0., 0., 0., 0., 0., 0., 0., 0., 0., 0., 0.,\n",
       "        0., 0., 0., 0., 0., 0., 0., 0., 0., 0., 0., 0.])"
      ]
     },
     "execution_count": 156,
     "metadata": {},
     "output_type": "execute_result"
    }
   ],
   "source": [
    "target = torch.zeros(5, 1000, 900)\n",
    "target[:, :24, :] = y\n",
    "target[4][500]"
   ]
  },
  {
   "cell_type": "code",
   "execution_count": 166,
   "metadata": {},
   "outputs": [
    {
     "data": {
      "text/plain": [
       "24"
      ]
     },
     "execution_count": 166,
     "metadata": {},
     "output_type": "execute_result"
    }
   ],
   "source": []
  },
  {
   "cell_type": "code",
   "execution_count": 147,
   "metadata": {},
   "outputs": [
    {
     "data": {
      "text/plain": [
       "tensor([24, 20, 13, 21, 16])"
      ]
     },
     "execution_count": 147,
     "metadata": {},
     "output_type": "execute_result"
    }
   ],
   "source": [
    "z.sentence[1]"
   ]
  },
  {
   "cell_type": "code",
   "execution_count": 19,
   "metadata": {},
   "outputs": [
    {
     "data": {
      "text/plain": [
       "(tensor([[2838,   60,  178,  ...,    1,    1,    1],\n",
       "         [ 115,    4, 1228,  ...,    1,    1,    1],\n",
       "         [ 199,   18,  569,  ...,    1,    1,    1],\n",
       "         [  43, 3978,  798,  ...,    1,    1,    1],\n",
       "         [ 380,   72,  539,  ...,    1,    1,    1]]),\n",
       " tensor([11, 53, 12, 40,  9]))"
      ]
     },
     "execution_count": 19,
     "metadata": {},
     "output_type": "execute_result"
    }
   ],
   "source": [
    "z.sentence"
   ]
  },
  {
   "cell_type": "code",
   "execution_count": 95,
   "metadata": {},
   "outputs": [
    {
     "data": {
      "text/plain": [
       "<torchtext.data.example.Example at 0x1f81911e198>"
      ]
     },
     "execution_count": 95,
     "metadata": {},
     "output_type": "execute_result"
    }
   ],
   "source": [
    "train.examples[0]"
   ]
  },
  {
   "cell_type": "code",
   "execution_count": 15,
   "metadata": {},
   "outputs": [
    {
     "data": {
      "text/plain": [
       "\n",
       "[torchtext.data.batch.Batch of size 5]\n",
       "\t[.sentence]:('[torch.LongTensor of size 5x1000]', '[torch.LongTensor of size 5]')\n",
       "\t[.bert_enc]:[torch.LongTensor of size 5x512]\n",
       "\t[.label]:[torch.LongTensor of size 5]"
      ]
     },
     "execution_count": 15,
     "metadata": {},
     "output_type": "execute_result"
    }
   ],
   "source": [
    "z"
   ]
  },
  {
   "cell_type": "code",
   "execution_count": 243,
   "metadata": {},
   "outputs": [
    {
     "data": {
      "text/plain": [
       "\n",
       "[torchtext.data.batch.Batch of size 5]\n",
       "\t[.sentence]:('[torch.LongTensor of size 5x24]', '[torch.LongTensor of size 5]')\n",
       "\t[.bert_enc]:[torch.LongTensor of size 5x512]\n",
       "\t[.label]:[torch.LongTensor of size 5]"
      ]
     },
     "execution_count": 243,
     "metadata": {},
     "output_type": "execute_result"
    }
   ],
   "source": [
    "z"
   ]
  },
  {
   "cell_type": "code",
   "execution_count": 142,
   "metadata": {},
   "outputs": [
    {
     "data": {
      "text/plain": [
       "tensor([ 2.7204e-01, -6.2030e-02, -1.8840e-01,  2.3225e-02, -1.8158e-02,\n",
       "         6.7192e-03, -1.3877e-01,  1.7708e-01,  1.7709e-01,  2.5882e+00,\n",
       "        -3.5179e-01, -1.7312e-01,  4.3285e-01, -1.0708e-01,  1.5006e-01,\n",
       "        -1.9982e-01, -1.9093e-01,  1.1871e+00, -1.6207e-01, -2.3538e-01,\n",
       "         3.6640e-03, -1.9156e-01, -8.5662e-02,  3.9199e-02, -6.6449e-02,\n",
       "        -4.2090e-02, -1.9122e-01,  1.1679e-02, -3.7138e-01,  2.1886e-01,\n",
       "         1.1423e-03,  4.3190e-01, -1.4205e-01,  3.8059e-01,  3.0654e-01,\n",
       "         2.0167e-02, -1.8316e-01, -6.5186e-03, -8.0549e-03, -1.2063e-01,\n",
       "         2.7507e-02,  2.9839e-01, -2.2896e-01, -2.2882e-01,  1.4671e-01,\n",
       "        -7.6301e-02, -1.2680e-01, -6.6651e-03, -5.2795e-02,  1.4258e-01,\n",
       "         1.5610e-01,  5.5510e-02, -1.6149e-01,  9.6290e-02, -7.6533e-02,\n",
       "        -4.9971e-02, -1.0195e-02, -4.7641e-02, -1.6679e-01, -2.3940e-01,\n",
       "         5.0141e-03, -4.9175e-02,  1.3338e-02,  4.1923e-01, -1.0104e-01,\n",
       "         1.5111e-02, -7.7706e-02, -1.3471e-01,  1.1900e-01,  1.0802e-01,\n",
       "         2.1061e-01, -5.1904e-02,  1.8527e-01,  1.7856e-01,  4.1293e-02,\n",
       "        -1.4385e-02, -8.2567e-02, -3.5483e-02, -7.6173e-02, -4.5367e-02,\n",
       "         8.9281e-02,  3.3672e-01, -2.2099e-01, -6.7275e-03,  2.3983e-01,\n",
       "        -2.3147e-01, -8.8592e-01,  9.1297e-02, -1.2123e-02,  1.3233e-02,\n",
       "        -2.5799e-01, -2.9720e-02,  1.6754e-02,  1.3690e-02,  3.2377e-01,\n",
       "         3.9546e-02,  4.2114e-02, -8.8243e-02,  3.0318e-01,  8.7747e-02,\n",
       "         1.6346e-01, -4.0485e-01, -4.3845e-02, -4.0697e-02,  2.0936e-01,\n",
       "        -7.7795e-01,  2.9970e-01,  2.3340e-01,  1.4891e-01, -3.9037e-01,\n",
       "        -5.3086e-02,  6.2922e-02,  6.5663e-02, -1.3906e-01,  9.4193e-02,\n",
       "         1.0344e-01, -2.7970e-01,  2.8905e-01, -3.2161e-01,  2.0687e-02,\n",
       "         6.3254e-02, -2.3257e-01, -4.3520e-01, -1.7049e-02, -3.2744e-01,\n",
       "        -4.7064e-02, -7.5149e-02, -1.8788e-01, -1.5017e-02,  2.9342e-02,\n",
       "        -3.5270e-01, -4.4278e-02, -1.3507e-01, -1.1644e-01, -1.0430e-01,\n",
       "         1.3920e-01,  3.9199e-03,  3.7603e-01,  6.7217e-02, -3.7992e-01,\n",
       "        -1.1241e+00, -5.7357e-02, -1.6826e-01,  3.9410e-02,  2.6040e-01,\n",
       "        -2.3866e-02,  1.7963e-01,  1.3553e-01,  2.1390e-01,  5.2633e-02,\n",
       "        -2.5033e-01, -1.1307e-01,  2.2234e-01,  6.6597e-02, -1.1161e-01,\n",
       "         6.2438e-02, -2.7972e-01,  1.9878e-01, -3.6262e-01, -1.0006e-05,\n",
       "        -1.7262e-01,  2.9166e-01, -1.5723e-01,  5.4295e-02,  6.1010e-02,\n",
       "        -3.9165e-01,  2.7660e-01,  5.7816e-02,  3.9709e-01,  2.5229e-02,\n",
       "         2.4672e-01, -8.9050e-02,  1.5683e-01, -2.0960e-01, -2.2196e-01,\n",
       "         5.2394e-02, -1.1360e-02,  5.0417e-02, -1.4023e-01, -4.2825e-02,\n",
       "        -3.1931e-02, -2.1336e-01, -2.0402e-01, -2.3272e-01,  7.4490e-02,\n",
       "         8.8202e-02, -1.1063e-01, -3.3526e-01, -1.4028e-02, -2.9429e-01,\n",
       "        -8.6911e-02, -1.3210e-01, -4.3616e-01,  2.0513e-01,  7.9362e-03,\n",
       "         4.8505e-01,  6.4237e-02,  1.4261e-01, -4.3711e-01,  1.2783e-01,\n",
       "        -1.3111e-01,  2.4673e-01, -2.7496e-01,  1.5896e-01,  4.3314e-01,\n",
       "         9.0286e-02,  2.4662e-01,  6.6463e-02, -2.0099e-01,  1.1010e-01,\n",
       "         3.6440e-02,  1.7359e-01, -1.5689e-01, -8.6328e-02, -1.7316e-01,\n",
       "         3.6975e-01, -4.0317e-01, -6.4814e-02, -3.4166e-02, -1.3773e-02,\n",
       "         6.2854e-02, -1.7183e-01, -1.2366e-01, -3.4663e-02, -2.2793e-01,\n",
       "        -2.3172e-01,  2.3900e-01,  2.7473e-01,  1.5332e-01,  1.0661e-01,\n",
       "        -6.0982e-02, -2.4805e-02, -1.3478e-01,  1.7932e-01, -3.7374e-01,\n",
       "        -2.8930e-02, -1.1142e-01, -8.3890e-02, -5.5932e-02,  6.8039e-02,\n",
       "        -1.0783e-01,  1.4650e-01,  9.4617e-02, -8.4554e-02,  6.7429e-02,\n",
       "        -3.2910e-01,  3.4082e-02, -1.6747e-01, -2.5997e-01, -2.2917e-01,\n",
       "         2.0159e-02, -2.7580e-02,  1.6136e-01, -1.8538e-01,  3.7665e-02,\n",
       "         5.7603e-01,  2.0684e-01,  2.7941e-01,  1.6477e-01, -1.8769e-02,\n",
       "         1.2062e-01,  6.9648e-02,  5.9022e-02, -2.3154e-01,  2.4095e-01,\n",
       "        -3.4710e-01,  4.8540e-02, -5.6502e-02,  4.1566e-01, -4.3194e-01,\n",
       "         4.8230e-01, -5.1759e-02, -2.7285e-01, -2.5893e-01,  1.6555e-01,\n",
       "        -1.8310e-01, -6.7340e-02,  4.2457e-01,  1.0346e-02,  1.4237e-01,\n",
       "         2.5939e-01,  1.7123e-01, -1.3821e-01, -6.6846e-02,  1.5981e-02,\n",
       "        -3.0193e-01,  4.3579e-02, -4.3102e-02,  3.5025e-01, -1.9681e-01,\n",
       "        -4.2810e-01,  1.6899e-01,  2.2511e-01, -2.8557e-01, -1.0280e-01,\n",
       "        -1.8168e-02,  1.1407e-01,  1.3015e-01, -1.8317e-01,  1.3230e-01])"
      ]
     },
     "execution_count": 142,
     "metadata": {},
     "output_type": "execute_result"
    }
   ],
   "source": [
    "TEXT.vocab.vectors[2]"
   ]
  },
  {
   "cell_type": "code",
   "execution_count": 143,
   "metadata": {},
   "outputs": [
    {
     "data": {
      "text/plain": [
       "'the'"
      ]
     },
     "execution_count": 143,
     "metadata": {},
     "output_type": "execute_result"
    }
   ],
   "source": [
    "TEXT.vocab.itos[2]"
   ]
  },
  {
   "cell_type": "code",
   "execution_count": 25,
   "metadata": {},
   "outputs": [
    {
     "data": {
      "text/plain": [
       "tensor([  101,  1000,  2043,  1037,  5971,  8013,  5363,  2000, 12040, 10439,\n",
       "         1010,  2019,  7561,  4471,  1000,  2115,  4070,  2987,  1005,  1056,\n",
       "         2031,  6656,  2000, 12040, 18726,  2000,  1996,  3573,  1000,  8834,\n",
       "         1998,  2027,  3685, 12040,  2151, 10439,  1012,  1045,  2113,  2008,\n",
       "         2023,  4471,  2965,  2043, 25353,  2386, 26557, 29525,  3436,  2003,\n",
       "        13330,  1010,  2021,  2023,  4471,  2003, 13727,  1998,  2987,  1005,\n",
       "         1056,  5254,  2054,  5310,  3791,  2000,  2079,  1012,  1000,  1000,\n",
       "          102,     0,     0,     0,     0,     0,     0,     0,     0,     0,\n",
       "            0,     0,     0,     0,     0,     0,     0,     0,     0,     0,\n",
       "            0,     0,     0,     0,     0,     0,     0,     0,     0,     0,\n",
       "            0,     0,     0,     0,     0,     0,     0,     0,     0,     0,\n",
       "            0,     0,     0,     0,     0,     0,     0,     0,     0,     0,\n",
       "            0,     0,     0,     0,     0,     0,     0,     0,     0,     0,\n",
       "            0,     0,     0,     0,     0,     0,     0,     0,     0,     0,\n",
       "            0,     0,     0,     0,     0,     0,     0,     0,     0,     0,\n",
       "            0,     0,     0,     0,     0,     0,     0,     0,     0,     0,\n",
       "            0,     0,     0,     0,     0,     0,     0,     0,     0,     0,\n",
       "            0,     0,     0,     0,     0,     0,     0,     0,     0,     0,\n",
       "            0,     0,     0,     0,     0,     0,     0,     0,     0,     0,\n",
       "            0,     0,     0,     0,     0,     0,     0,     0,     0,     0,\n",
       "            0,     0,     0,     0,     0,     0,     0,     0,     0,     0,\n",
       "            0,     0,     0,     0,     0,     0,     0,     0,     0,     0,\n",
       "            0,     0,     0,     0,     0,     0,     0,     0,     0,     0,\n",
       "            0,     0,     0,     0,     0,     0,     0,     0,     0,     0,\n",
       "            0,     0,     0,     0,     0,     0,     0,     0,     0,     0,\n",
       "            0,     0,     0,     0,     0,     0,     0,     0,     0,     0,\n",
       "            0,     0,     0,     0,     0,     0,     0,     0,     0,     0,\n",
       "            0,     0,     0,     0,     0,     0,     0,     0,     0,     0,\n",
       "            0,     0,     0,     0,     0,     0,     0,     0,     0,     0,\n",
       "            0,     0,     0,     0,     0,     0,     0,     0,     0,     0,\n",
       "            0,     0,     0,     0,     0,     0,     0,     0,     0,     0,\n",
       "            0,     0,     0,     0,     0,     0,     0,     0,     0,     0,\n",
       "            0,     0,     0,     0,     0,     0,     0,     0,     0,     0,\n",
       "            0,     0,     0,     0,     0,     0,     0,     0,     0,     0,\n",
       "            0,     0,     0,     0,     0,     0,     0,     0,     0,     0,\n",
       "            0,     0,     0,     0,     0,     0,     0,     0,     0,     0,\n",
       "            0,     0,     0,     0,     0,     0,     0,     0,     0,     0,\n",
       "            0,     0,     0,     0,     0,     0,     0,     0,     0,     0,\n",
       "            0,     0,     0,     0,     0,     0,     0,     0,     0,     0,\n",
       "            0,     0,     0,     0,     0,     0,     0,     0,     0,     0,\n",
       "            0,     0,     0,     0,     0,     0,     0,     0,     0,     0,\n",
       "            0,     0,     0,     0,     0,     0,     0,     0,     0,     0,\n",
       "            0,     0,     0,     0,     0,     0,     0,     0,     0,     0,\n",
       "            0,     0,     0,     0,     0,     0,     0,     0,     0,     0,\n",
       "            0,     0,     0,     0,     0,     0,     0,     0,     0,     0,\n",
       "            0,     0,     0,     0,     0,     0,     0,     0,     0,     0,\n",
       "            0,     0,     0,     0,     0,     0,     0,     0,     0,     0,\n",
       "            0,     0,     0,     0,     0,     0,     0,     0,     0,     0,\n",
       "            0,     0,     0,     0,     0,     0,     0,     0,     0,     0,\n",
       "            0,     0,     0,     0,     0,     0,     0,     0,     0,     0,\n",
       "            0,     0,     0,     0,     0,     0,     0,     0,     0,     0,\n",
       "            0,     0])"
      ]
     },
     "execution_count": 25,
     "metadata": {},
     "output_type": "execute_result"
    }
   ],
   "source": [
    "z.bert_enc[1]"
   ]
  },
  {
   "cell_type": "code",
   "execution_count": null,
   "metadata": {},
   "outputs": [],
   "source": []
  },
  {
   "cell_type": "code",
   "execution_count": 123,
   "metadata": {},
   "outputs": [
    {
     "data": {
      "text/plain": [
       "torch.Size([5])"
      ]
     },
     "execution_count": 123,
     "metadata": {},
     "output_type": "execute_result"
    }
   ],
   "source": [
    "z.sentence[1].shape"
   ]
  },
  {
   "cell_type": "code",
   "execution_count": 119,
   "metadata": {},
   "outputs": [
    {
     "data": {
      "text/plain": [
       "(tensor([[  508,   337,     2,   173,    68,   562,  1286,   177,     3,     2,\n",
       "            576,  3330,     1,     1,     1,     1,     1,     1,     1,     1,\n",
       "              1,     1,     1,     1,     1,     1,     1],\n",
       "         [  652, 13747,   806,  3969,  6304,     7,     4,  6371,     9,  1820,\n",
       "            392,     3, 14979,  1063,    15,   418,   982,     5,     2,   107,\n",
       "              3,   982,   333, 13740,     9,   190,  1141],\n",
       "         [ 7778,    46,   250,  7435,    96,    19,   991,     1,     1,     1,\n",
       "              1,     1,     1,     1,     1,     1,     1,     1,     1,     1,\n",
       "              1,     1,     1,     1,     1,     1,     1],\n",
       "         [ 1093,    21,    90, 14471,     1,     1,     1,     1,     1,     1,\n",
       "              1,     1,     1,     1,     1,     1,     1,     1,     1,     1,\n",
       "              1,     1,     1,     1,     1,     1,     1],\n",
       "         [15277,   321, 18052,    24, 13303,  5045,   171,  4041,     7, 13657,\n",
       "              5,   208,   322, 11165,    32,   284, 13304,     3,  3527,   153,\n",
       "          17646,     1,     1,     1,     1,     1,     1]]),\n",
       " tensor([12, 27,  7,  4, 21]))"
      ]
     },
     "execution_count": 119,
     "metadata": {},
     "output_type": "execute_result"
    }
   ],
   "source": [
    "z.sentence"
   ]
  },
  {
   "cell_type": "code",
   "execution_count": 120,
   "metadata": {},
   "outputs": [
    {
     "data": {
      "text/plain": [
       "tensor([ 508,  337,    2,  173,   68,  562, 1286,  177,    3,    2,  576, 3330,\n",
       "           1,    1,    1,    1,    1,    1,    1,    1,    1,    1,    1,    1,\n",
       "           1,    1,    1])"
      ]
     },
     "execution_count": 120,
     "metadata": {},
     "output_type": "execute_result"
    }
   ],
   "source": [
    "z.sentence[0][0]"
   ]
  },
  {
   "cell_type": "code",
   "execution_count": 121,
   "metadata": {},
   "outputs": [
    {
     "data": {
      "text/plain": [
       "'<pad>'"
      ]
     },
     "execution_count": 121,
     "metadata": {},
     "output_type": "execute_result"
    }
   ],
   "source": [
    "#z.dataset.examples[0].sentence\n",
    "TEXT.vocab.itos[1]"
   ]
  },
  {
   "cell_type": "code",
   "execution_count": 118,
   "metadata": {},
   "outputs": [
    {
     "data": {
      "text/plain": [
       "(tensor([[  508,   337,     2,   173,    68,   562,  1286,   177,     3,     2,\n",
       "            576,  3330,     1,     1,     1,     1,     1,     1,     1,     1,\n",
       "              1,     1,     1,     1,     1,     1,     1],\n",
       "         [  652, 13747,   806,  3969,  6304,     7,     4,  6371,     9,  1820,\n",
       "            392,     3, 14979,  1063,    15,   418,   982,     5,     2,   107,\n",
       "              3,   982,   333, 13740,     9,   190,  1141],\n",
       "         [ 7778,    46,   250,  7435,    96,    19,   991,     1,     1,     1,\n",
       "              1,     1,     1,     1,     1,     1,     1,     1,     1,     1,\n",
       "              1,     1,     1,     1,     1,     1,     1],\n",
       "         [ 1093,    21,    90, 14471,     1,     1,     1,     1,     1,     1,\n",
       "              1,     1,     1,     1,     1,     1,     1,     1,     1,     1,\n",
       "              1,     1,     1,     1,     1,     1,     1],\n",
       "         [15277,   321, 18052,    24, 13303,  5045,   171,  4041,     7, 13657,\n",
       "              5,   208,   322, 11165,    32,   284, 13304,     3,  3527,   153,\n",
       "          17646,     1,     1,     1,     1,     1,     1]]),\n",
       " tensor([12, 27,  7,  4, 21]))"
      ]
     },
     "execution_count": 118,
     "metadata": {},
     "output_type": "execute_result"
    }
   ],
   "source": [
    "z.sentence"
   ]
  },
  {
   "cell_type": "code",
   "execution_count": 103,
   "metadata": {},
   "outputs": [
    {
     "data": {
      "text/plain": [
       "23"
      ]
     },
     "execution_count": 103,
     "metadata": {},
     "output_type": "execute_result"
    }
   ],
   "source": [
    "len([  267,     9,   255,   334,    39,    13,    34,    18,    58,  8072,\n",
    "            349,     6,  3dd202,  1221,     2,   849,   544,    41,   228,    15,\n",
    "             57,   494,  4272])"
   ]
  },
  {
   "cell_type": "code",
   "execution_count": 46,
   "metadata": {},
   "outputs": [
    {
     "name": "stdout",
     "output_type": "stream",
     "text": [
      "torch.Size([5, 1000, 300])\n"
     ]
    },
    {
     "data": {
      "text/plain": [
       "tensor([[[-0.1306,  0.1034, -0.1024,  ..., -0.7768,  0.1127, -0.1153],\n",
       "         [-0.6581,  0.3264, -0.2968,  ...,  0.1498,  0.2905,  0.1792],\n",
       "         [ 0.3588, -0.0043, -0.0425,  ..., -0.2057,  0.1942, -0.0247],\n",
       "         ...,\n",
       "         [ 0.0000,  0.0000,  0.0000,  ...,  0.0000,  0.0000,  0.0000],\n",
       "         [ 0.0000,  0.0000,  0.0000,  ...,  0.0000,  0.0000,  0.0000],\n",
       "         [ 0.0000,  0.0000,  0.0000,  ...,  0.0000,  0.0000,  0.0000]],\n",
       "\n",
       "        [[ 0.0000,  0.0000,  0.0000,  ...,  0.0000,  0.0000,  0.0000],\n",
       "         [-0.0241, -0.1368, -0.1341,  ..., -0.3616, -0.1302,  0.0225],\n",
       "         [ 0.0602,  0.2180, -0.0425,  ...,  0.1171, -0.1669, -0.0941],\n",
       "         ...,\n",
       "         [ 0.0000,  0.0000,  0.0000,  ...,  0.0000,  0.0000,  0.0000],\n",
       "         [ 0.0000,  0.0000,  0.0000,  ...,  0.0000,  0.0000,  0.0000],\n",
       "         [ 0.0000,  0.0000,  0.0000,  ...,  0.0000,  0.0000,  0.0000]],\n",
       "\n",
       "        [[ 0.0000,  0.0000,  0.0000,  ...,  0.0000,  0.0000,  0.0000],\n",
       "         [ 0.1222,  0.3166, -0.5548,  ..., -0.3047,  0.2765,  0.1429],\n",
       "         [ 0.0892,  0.2579,  0.2628,  ...,  0.1442, -0.1690,  0.2650],\n",
       "         ...,\n",
       "         [ 0.0000,  0.0000,  0.0000,  ...,  0.0000,  0.0000,  0.0000],\n",
       "         [ 0.0000,  0.0000,  0.0000,  ...,  0.0000,  0.0000,  0.0000],\n",
       "         [ 0.0000,  0.0000,  0.0000,  ...,  0.0000,  0.0000,  0.0000]],\n",
       "\n",
       "        [[ 0.0000,  0.0000,  0.0000,  ...,  0.0000,  0.0000,  0.0000],\n",
       "         [ 0.0000,  0.0000,  0.0000,  ...,  0.0000,  0.0000,  0.0000],\n",
       "         [ 0.2292,  0.0933, -0.1284,  ..., -0.2045,  0.0156,  0.0475],\n",
       "         ...,\n",
       "         [ 0.0000,  0.0000,  0.0000,  ...,  0.0000,  0.0000,  0.0000],\n",
       "         [ 0.0000,  0.0000,  0.0000,  ...,  0.0000,  0.0000,  0.0000],\n",
       "         [ 0.0000,  0.0000,  0.0000,  ...,  0.0000,  0.0000,  0.0000]],\n",
       "\n",
       "        [[-0.0241, -0.1368, -0.1341,  ..., -0.3616, -0.1302,  0.0225],\n",
       "         [ 0.0227,  0.2682, -0.1666,  ...,  0.1415,  0.0887, -0.0986],\n",
       "         [-0.1038,  0.2065, -0.1937,  ..., -0.2407,  0.3086,  0.1792],\n",
       "         ...,\n",
       "         [ 0.0000,  0.0000,  0.0000,  ...,  0.0000,  0.0000,  0.0000],\n",
       "         [ 0.0000,  0.0000,  0.0000,  ...,  0.0000,  0.0000,  0.0000],\n",
       "         [ 0.0000,  0.0000,  0.0000,  ...,  0.0000,  0.0000,  0.0000]]],\n",
       "       grad_fn=<EmbeddingBackward>)"
      ]
     },
     "execution_count": 46,
     "metadata": {},
     "output_type": "execute_result"
    }
   ],
   "source": [
    "from torch import nn\n",
    "x = nn.Embedding(len(TEXT.vocab), 300)\n",
    "x.weight.data = TEXT.vocab.vectors\n",
    "print(x(z.sentence[0]).shape)\n",
    "x(z.sentence[0])"
   ]
  },
  {
   "cell_type": "code",
   "execution_count": 133,
   "metadata": {},
   "outputs": [
    {
     "data": {
      "text/plain": [
       "tensor([[ 0.0000,  0.0000,  0.0000,  ...,  0.0000,  0.0000,  0.0000],\n",
       "        [ 0.0000,  0.0000,  0.0000,  ...,  0.0000,  0.0000,  0.0000],\n",
       "        [ 0.2720, -0.0620, -0.1884,  ...,  0.1302, -0.1832,  0.1323],\n",
       "        ...,\n",
       "        [ 0.0000,  0.0000,  0.0000,  ...,  0.0000,  0.0000,  0.0000],\n",
       "        [ 0.0000,  0.0000,  0.0000,  ...,  0.0000,  0.0000,  0.0000],\n",
       "        [ 0.0000,  0.0000,  0.0000,  ...,  0.0000,  0.0000,  0.0000]])"
      ]
     },
     "execution_count": 133,
     "metadata": {},
     "output_type": "execute_result"
    }
   ],
   "source": [
    "TEXT.vocab.vectors"
   ]
  },
  {
   "cell_type": "code",
   "execution_count": 44,
   "metadata": {},
   "outputs": [
    {
     "data": {
      "text/plain": [
       "(tensor([[ 494,  861,  107,  ...,    1,    1,    1],\n",
       "         [3665,  193,    8,  ...,    1,    1,    1],\n",
       "         [ 630,   30,    7,  ...,    1,    1,    1],\n",
       "         [ 112,  192,  171,  ...,    1,    1,    1],\n",
       "         [ 193,   37,   49,  ...,    1,    1,    1]]),\n",
       " tensor([24, 20, 13, 21, 16]))"
      ]
     },
     "execution_count": 44,
     "metadata": {},
     "output_type": "execute_result"
    }
   ],
   "source": [
    "z.sentence"
   ]
  },
  {
   "cell_type": "code",
   "execution_count": 49,
   "metadata": {},
   "outputs": [
    {
     "data": {
      "text/plain": [
       "torch.Size([5, 1000, 300])"
      ]
     },
     "execution_count": 49,
     "metadata": {},
     "output_type": "execute_result"
    }
   ],
   "source": [
    "inputs = x(z.sentence[0])\n",
    "inputs.shape"
   ]
  },
  {
   "cell_type": "code",
   "execution_count": 70,
   "metadata": {},
   "outputs": [
    {
     "name": "stdout",
     "output_type": "stream",
     "text": [
      "tensor([24, 21, 20, 16, 13]) tensor([0, 3, 1, 4, 2])\n"
     ]
    }
   ],
   "source": [
    "lens, indices = torch.sort(z.sentence[1], 0, True)\n",
    "print(lens, indices)"
   ]
  },
  {
   "cell_type": "code",
   "execution_count": 57,
   "metadata": {},
   "outputs": [
    {
     "data": {
      "text/plain": [
       "torch.Size([5, 1000, 300])"
      ]
     },
     "execution_count": 57,
     "metadata": {},
     "output_type": "execute_result"
    }
   ],
   "source": [
    "outputs = [inputs]\n",
    "outputs[0].shape"
   ]
  },
  {
   "cell_type": "code",
   "execution_count": 66,
   "metadata": {},
   "outputs": [
    {
     "data": {
      "text/plain": [
       "[24, 21, 20, 16, 13]"
      ]
     },
     "execution_count": 66,
     "metadata": {},
     "output_type": "execute_result"
    }
   ],
   "source": [
    "len_list = lens.tolist()\n",
    "len_list"
   ]
  },
  {
   "cell_type": "code",
   "execution_count": 69,
   "metadata": {},
   "outputs": [
    {
     "data": {
      "text/plain": [
       "torch.Size([5, 1000, 300])"
      ]
     },
     "execution_count": 69,
     "metadata": {},
     "output_type": "execute_result"
    }
   ],
   "source": [
    "inputs[indices].shape"
   ]
  },
  {
   "cell_type": "code",
   "execution_count": 72,
   "metadata": {},
   "outputs": [
    {
     "name": "stdout",
     "output_type": "stream",
     "text": [
      "torch.Size([94, 300])\n",
      "PackedSequence(data=tensor([[-0.1306,  0.1034, -0.1024,  ..., -0.7768,  0.1127, -0.1153],\n",
      "        [ 0.0000,  0.0000,  0.0000,  ...,  0.0000,  0.0000,  0.0000],\n",
      "        [ 0.0000,  0.0000,  0.0000,  ...,  0.0000,  0.0000,  0.0000],\n",
      "        ...,\n",
      "        [-0.1722,  0.1823, -0.2785,  ..., -0.1267, -0.4386,  0.3877],\n",
      "        [ 0.1542,  0.0862,  0.3333,  ..., -0.1949, -0.8467,  0.2624],\n",
      "        [ 0.6127, -0.1795,  0.1991,  ...,  0.2813, -0.9914,  0.2804]],\n",
      "       grad_fn=<PackPaddedSequenceBackward>), batch_sizes=tensor([5, 5, 5, 5, 5, 5, 5, 5, 5, 5, 5, 5, 5, 4, 4, 4, 3, 3, 3, 3, 2, 1, 1, 1]), sorted_indices=None, unsorted_indices=None)\n"
     ]
    }
   ],
   "source": [
    "from torch.nn.utils.rnn import pad_packed_sequence as unpack\n",
    "from torch.nn.utils.rnn import pack_padded_sequence as pack\n",
    "\n",
    "packed_inputs = pack(inputs[indices], len_list, batch_first=True)\n",
    "print(packed_inputs[0].shape)\n",
    "print(packed_inputs)"
   ]
  },
  {
   "cell_type": "code",
   "execution_count": 75,
   "metadata": {},
   "outputs": [],
   "source": [
    "rnn1 = nn.LSTM(300, 300, num_layers=2, bidirectional=True, batch_first=True)"
   ]
  },
  {
   "cell_type": "code",
   "execution_count": 81,
   "metadata": {},
   "outputs": [
    {
     "name": "stdout",
     "output_type": "stream",
     "text": [
      "torch.Size([94, 600])\n"
     ]
    }
   ],
   "source": [
    "outputs1, hidden_t1 = rnn1(packed_inputs, None)\n",
    "print(outputs1[0].shape)"
   ]
  },
  {
   "cell_type": "code",
   "execution_count": 84,
   "metadata": {},
   "outputs": [
    {
     "name": "stdout",
     "output_type": "stream",
     "text": [
      "torch.Size([5, 24, 600])\n"
     ]
    }
   ],
   "source": [
    "unpacked_outputs1 = unpack(outputs1, batch_first=True)[0]\n",
    "print(unpacked_outputs1.shape)"
   ]
  },
  {
   "cell_type": "code",
   "execution_count": 107,
   "metadata": {},
   "outputs": [
    {
     "data": {
      "text/plain": [
       "tensor([0., 0., 0., 0., 0., 0., 0., 0., 0., 0., 0., 0., 0., 0., 0., 0., 0., 0., 0., 0., 0., 0., 0., 0.,\n",
       "        0., 0., 0., 0., 0., 0., 0., 0., 0., 0., 0., 0., 0., 0., 0., 0., 0., 0., 0., 0., 0., 0., 0., 0.,\n",
       "        0., 0., 0., 0., 0., 0., 0., 0., 0., 0., 0., 0., 0., 0., 0., 0., 0., 0., 0., 0., 0., 0., 0., 0.,\n",
       "        0., 0., 0., 0., 0., 0., 0., 0., 0., 0., 0., 0., 0., 0., 0., 0., 0., 0., 0., 0., 0., 0., 0., 0.,\n",
       "        0., 0., 0., 0., 0., 0., 0., 0., 0., 0., 0., 0., 0., 0., 0., 0., 0., 0., 0., 0., 0., 0., 0., 0.,\n",
       "        0., 0., 0., 0., 0., 0., 0., 0., 0., 0., 0., 0., 0., 0., 0., 0., 0., 0., 0., 0., 0., 0., 0., 0.,\n",
       "        0., 0., 0., 0., 0., 0., 0., 0., 0., 0., 0., 0., 0., 0., 0., 0., 0., 0., 0., 0., 0., 0., 0., 0.,\n",
       "        0., 0., 0., 0., 0., 0., 0., 0., 0., 0., 0., 0., 0., 0., 0., 0., 0., 0., 0., 0., 0., 0., 0., 0.,\n",
       "        0., 0., 0., 0., 0., 0., 0., 0., 0., 0., 0., 0., 0., 0., 0., 0., 0., 0., 0., 0., 0., 0., 0., 0.,\n",
       "        0., 0., 0., 0., 0., 0., 0., 0., 0., 0., 0., 0., 0., 0., 0., 0., 0., 0., 0., 0., 0., 0., 0., 0.,\n",
       "        0., 0., 0., 0., 0., 0., 0., 0., 0., 0., 0., 0., 0., 0., 0., 0., 0., 0., 0., 0., 0., 0., 0., 0.,\n",
       "        0., 0., 0., 0., 0., 0., 0., 0., 0., 0., 0., 0., 0., 0., 0., 0., 0., 0., 0., 0., 0., 0., 0., 0.,\n",
       "        0., 0., 0., 0., 0., 0., 0., 0., 0., 0., 0., 0., 0., 0., 0., 0., 0., 0., 0., 0., 0., 0., 0., 0.,\n",
       "        0., 0., 0., 0., 0., 0., 0., 0., 0., 0., 0., 0., 0., 0., 0., 0., 0., 0., 0., 0., 0., 0., 0., 0.,\n",
       "        0., 0., 0., 0., 0., 0., 0., 0., 0., 0., 0., 0., 0., 0., 0., 0., 0., 0., 0., 0., 0., 0., 0., 0.,\n",
       "        0., 0., 0., 0., 0., 0., 0., 0., 0., 0., 0., 0., 0., 0., 0., 0., 0., 0., 0., 0., 0., 0., 0., 0.,\n",
       "        0., 0., 0., 0., 0., 0., 0., 0., 0., 0., 0., 0., 0., 0., 0., 0., 0., 0., 0., 0., 0., 0., 0., 0.,\n",
       "        0., 0., 0., 0., 0., 0., 0., 0., 0., 0., 0., 0., 0., 0., 0., 0., 0., 0., 0., 0., 0., 0., 0., 0.,\n",
       "        0., 0., 0., 0., 0., 0., 0., 0., 0., 0., 0., 0., 0., 0., 0., 0., 0., 0., 0., 0., 0., 0., 0., 0.,\n",
       "        0., 0., 0., 0., 0., 0., 0., 0., 0., 0., 0., 0., 0., 0., 0., 0., 0., 0., 0., 0., 0., 0., 0., 0.,\n",
       "        0., 0., 0., 0., 0., 0., 0., 0., 0., 0., 0., 0., 0., 0., 0., 0., 0., 0., 0., 0., 0., 0., 0., 0.,\n",
       "        0., 0., 0., 0., 0., 0., 0., 0., 0., 0., 0., 0., 0., 0., 0., 0., 0., 0., 0., 0., 0., 0., 0., 0.,\n",
       "        0., 0., 0., 0., 0., 0., 0., 0., 0., 0., 0., 0., 0., 0., 0., 0., 0., 0., 0., 0., 0., 0., 0., 0.,\n",
       "        0., 0., 0., 0., 0., 0., 0., 0., 0., 0., 0., 0., 0., 0., 0., 0., 0., 0., 0., 0., 0., 0., 0., 0.,\n",
       "        0., 0., 0., 0., 0., 0., 0., 0., 0., 0., 0., 0., 0., 0., 0., 0., 0., 0., 0., 0., 0., 0., 0., 0.],\n",
       "       grad_fn=<SelectBackward>)"
      ]
     },
     "execution_count": 107,
     "metadata": {},
     "output_type": "execute_result"
    }
   ],
   "source": [
    "unpacked_outputs1[4][20]"
   ]
  }
 ],
 "metadata": {
  "kernelspec": {
   "display_name": "Python 3",
   "language": "python",
   "name": "python3"
  },
  "language_info": {
   "codemirror_mode": {
    "name": "ipython",
    "version": 3
   },
   "file_extension": ".py",
   "mimetype": "text/x-python",
   "name": "python",
   "nbconvert_exporter": "python",
   "pygments_lexer": "ipython3",
   "version": "3.6.8"
  }
 },
 "nbformat": 4,
 "nbformat_minor": 2
}
